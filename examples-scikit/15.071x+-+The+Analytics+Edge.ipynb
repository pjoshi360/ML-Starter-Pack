{
 "cells": [
  {
   "cell_type": "code",
   "execution_count": 898,
   "metadata": {
    "collapsed": true
   },
   "outputs": [],
   "source": [
    "import matplotlib.pyplot as plt\n",
    "import numpy as np\n",
    "import pandas as pd\n",
    "import datetime\n",
    "%matplotlib inline"
   ]
  },
  {
   "cell_type": "code",
   "execution_count": 899,
   "metadata": {
    "collapsed": true
   },
   "outputs": [],
   "source": [
    "train_data = pd.read_csv(\"C:/Users/R AMARTYA/Desktop/KDAG/NYTimesBlogTrain.csv\")\n",
    "test_data = pd.read_csv(\"C:/Users/R AMARTYA/Desktop/KDAG/NYTimesBlogTest.csv\")"
   ]
  },
  {
   "cell_type": "markdown",
   "metadata": {},
   "source": [
    "Merging the train and test data so that we can carry out the preprocessing process oly once."
   ]
  },
  {
   "cell_type": "code",
   "execution_count": 900,
   "metadata": {},
   "outputs": [
    {
     "data": {
      "text/plain": [
       "NewsDesk          5994\n",
       "SectionName       5503\n",
       "SubsectionName    2226\n",
       "Headline          8402\n",
       "Snippet           8389\n",
       "Abstract          8385\n",
       "WordCount         8402\n",
       "PubDate           8402\n",
       "Popular           6532\n",
       "UniqueID          8402\n",
       "dtype: int64"
      ]
     },
     "execution_count": 900,
     "metadata": {},
     "output_type": "execute_result"
    }
   ],
   "source": [
    "total= train_data.merge(test_data, how = 'outer')\n",
    "total.count()"
   ]
  },
  {
   "cell_type": "markdown",
   "metadata": {},
   "source": [
    "Create additional features:\n",
    "\n",
    "    \"Symbol\": question or exclamation mark in the headline.\n",
    "    \"QandA\": \"Q. and A.\" phrase in the headline.\n",
    "\n"
   ]
  },
  {
   "cell_type": "code",
   "execution_count": 901,
   "metadata": {},
   "outputs": [],
   "source": [
    "total['PubDate'] = pd.to_datetime(total['PubDate'])\n",
    "total['Weekday'] =total['PubDate'].dt.weekday\n",
    "total['Hour'] = total['PubDate'].dt.hour\n",
    "total['Symbol'] =total['Headline'].str.contains(r'\\!|\\?').astype(int)\n",
    "total['QandA'] = total['Headline'].str.contains(r'Q\\. and A\\.').astype(int)"
   ]
  },
  {
   "cell_type": "code",
   "execution_count": 902,
   "metadata": {
    "scrolled": true
   },
   "outputs": [
    {
     "data": {
      "text/html": [
       "<div>\n",
       "<style scoped>\n",
       "    .dataframe tbody tr th:only-of-type {\n",
       "        vertical-align: middle;\n",
       "    }\n",
       "\n",
       "    .dataframe tbody tr th {\n",
       "        vertical-align: top;\n",
       "    }\n",
       "\n",
       "    .dataframe thead th {\n",
       "        text-align: right;\n",
       "    }\n",
       "</style>\n",
       "<table border=\"1\" class=\"dataframe\">\n",
       "  <thead>\n",
       "    <tr style=\"text-align: right;\">\n",
       "      <th></th>\n",
       "      <th>NewsDesk</th>\n",
       "      <th>SectionName</th>\n",
       "      <th>SubsectionName</th>\n",
       "      <th>Headline</th>\n",
       "      <th>Snippet</th>\n",
       "      <th>Abstract</th>\n",
       "      <th>WordCount</th>\n",
       "      <th>PubDate</th>\n",
       "      <th>Popular</th>\n",
       "      <th>UniqueID</th>\n",
       "      <th>Weekday</th>\n",
       "      <th>Hour</th>\n",
       "      <th>Symbol</th>\n",
       "      <th>QandA</th>\n",
       "    </tr>\n",
       "  </thead>\n",
       "  <tbody>\n",
       "    <tr>\n",
       "      <th>0</th>\n",
       "      <td>Business</td>\n",
       "      <td>Crosswords/Games</td>\n",
       "      <td>NaN</td>\n",
       "      <td>More School Daze</td>\n",
       "      <td>A puzzle from Ethan Cooper that reminds me tha...</td>\n",
       "      <td>A puzzle from Ethan Cooper that reminds me tha...</td>\n",
       "      <td>508</td>\n",
       "      <td>2014-09-01 22:00:00</td>\n",
       "      <td>1.0</td>\n",
       "      <td>1</td>\n",
       "      <td>0</td>\n",
       "      <td>22</td>\n",
       "      <td>0</td>\n",
       "      <td>0</td>\n",
       "    </tr>\n",
       "    <tr>\n",
       "      <th>1</th>\n",
       "      <td>Culture</td>\n",
       "      <td>Arts</td>\n",
       "      <td>NaN</td>\n",
       "      <td>New 96-Page Murakami Work Coming in December</td>\n",
       "      <td>The Strange Library will arrive just three and...</td>\n",
       "      <td>The Strange Library will arrive just three and...</td>\n",
       "      <td>285</td>\n",
       "      <td>2014-09-01 21:14:00</td>\n",
       "      <td>0.0</td>\n",
       "      <td>2</td>\n",
       "      <td>0</td>\n",
       "      <td>21</td>\n",
       "      <td>0</td>\n",
       "      <td>0</td>\n",
       "    </tr>\n",
       "    <tr>\n",
       "      <th>2</th>\n",
       "      <td>Business</td>\n",
       "      <td>Business Day</td>\n",
       "      <td>Dealbook</td>\n",
       "      <td>Public Pension Funds Stay Mum on Corporate Expats</td>\n",
       "      <td>Public pension funds have major stakes in Amer...</td>\n",
       "      <td>Public pension funds have major stakes in Amer...</td>\n",
       "      <td>1211</td>\n",
       "      <td>2014-09-01 21:05:00</td>\n",
       "      <td>0.0</td>\n",
       "      <td>3</td>\n",
       "      <td>0</td>\n",
       "      <td>21</td>\n",
       "      <td>0</td>\n",
       "      <td>0</td>\n",
       "    </tr>\n",
       "    <tr>\n",
       "      <th>3</th>\n",
       "      <td>Business</td>\n",
       "      <td>Business Day</td>\n",
       "      <td>Dealbook</td>\n",
       "      <td>Boot Camp for Bankers</td>\n",
       "      <td>As they struggle to find new business to bolst...</td>\n",
       "      <td>As they struggle to find new business to bolst...</td>\n",
       "      <td>1405</td>\n",
       "      <td>2014-09-01 20:43:00</td>\n",
       "      <td>1.0</td>\n",
       "      <td>4</td>\n",
       "      <td>0</td>\n",
       "      <td>20</td>\n",
       "      <td>0</td>\n",
       "      <td>0</td>\n",
       "    </tr>\n",
       "    <tr>\n",
       "      <th>4</th>\n",
       "      <td>Science</td>\n",
       "      <td>Health</td>\n",
       "      <td>NaN</td>\n",
       "      <td>Of Little Help to Older Knees</td>\n",
       "      <td>Middle-aged and older patients are unlikely to...</td>\n",
       "      <td>Middle-aged and older patients are unlikely to...</td>\n",
       "      <td>181</td>\n",
       "      <td>2014-09-01 18:58:00</td>\n",
       "      <td>1.0</td>\n",
       "      <td>5</td>\n",
       "      <td>0</td>\n",
       "      <td>18</td>\n",
       "      <td>0</td>\n",
       "      <td>0</td>\n",
       "    </tr>\n",
       "  </tbody>\n",
       "</table>\n",
       "</div>"
      ],
      "text/plain": [
       "   NewsDesk       SectionName SubsectionName  \\\n",
       "0  Business  Crosswords/Games            NaN   \n",
       "1   Culture              Arts            NaN   \n",
       "2  Business      Business Day       Dealbook   \n",
       "3  Business      Business Day       Dealbook   \n",
       "4   Science            Health            NaN   \n",
       "\n",
       "                                            Headline  \\\n",
       "0                                   More School Daze   \n",
       "1       New 96-Page Murakami Work Coming in December   \n",
       "2  Public Pension Funds Stay Mum on Corporate Expats   \n",
       "3                              Boot Camp for Bankers   \n",
       "4                      Of Little Help to Older Knees   \n",
       "\n",
       "                                             Snippet  \\\n",
       "0  A puzzle from Ethan Cooper that reminds me tha...   \n",
       "1  The Strange Library will arrive just three and...   \n",
       "2  Public pension funds have major stakes in Amer...   \n",
       "3  As they struggle to find new business to bolst...   \n",
       "4  Middle-aged and older patients are unlikely to...   \n",
       "\n",
       "                                            Abstract  WordCount  \\\n",
       "0  A puzzle from Ethan Cooper that reminds me tha...        508   \n",
       "1  The Strange Library will arrive just three and...        285   \n",
       "2  Public pension funds have major stakes in Amer...       1211   \n",
       "3  As they struggle to find new business to bolst...       1405   \n",
       "4  Middle-aged and older patients are unlikely to...        181   \n",
       "\n",
       "              PubDate  Popular  UniqueID  Weekday  Hour  Symbol  QandA  \n",
       "0 2014-09-01 22:00:00      1.0         1        0    22       0      0  \n",
       "1 2014-09-01 21:14:00      0.0         2        0    21       0      0  \n",
       "2 2014-09-01 21:05:00      0.0         3        0    21       0      0  \n",
       "3 2014-09-01 20:43:00      1.0         4        0    20       0      0  \n",
       "4 2014-09-01 18:58:00      1.0         5        0    18       0      0  "
      ]
     },
     "execution_count": 902,
     "metadata": {},
     "output_type": "execute_result"
    }
   ],
   "source": [
    "total.head(5)"
   ]
  },
  {
   "cell_type": "code",
   "execution_count": 903,
   "metadata": {},
   "outputs": [
    {
     "data": {
      "text/plain": [
       "2408"
      ]
     },
     "execution_count": 903,
     "metadata": {},
     "output_type": "execute_result"
    }
   ],
   "source": [
    "len(total[total['NewsDesk'].isnull()])"
   ]
  },
  {
   "cell_type": "code",
   "execution_count": 904,
   "metadata": {},
   "outputs": [
    {
     "data": {
      "text/plain": [
       "2899"
      ]
     },
     "execution_count": 904,
     "metadata": {},
     "output_type": "execute_result"
    }
   ],
   "source": [
    "len(total[total['SectionName'].isnull()])"
   ]
  },
  {
   "cell_type": "code",
   "execution_count": 905,
   "metadata": {},
   "outputs": [
    {
     "data": {
      "text/plain": [
       "6176"
      ]
     },
     "execution_count": 905,
     "metadata": {},
     "output_type": "execute_result"
    }
   ],
   "source": [
    "len(total[total['SubsectionName'].isnull()])"
   ]
  },
  {
   "cell_type": "markdown",
   "metadata": {},
   "source": [
    "Thus there are many gaps which we have to fill before proceeding further"
   ]
  },
  {
   "cell_type": "markdown",
   "metadata": {},
   "source": [
    "There are many features which can be observed in the data which leadas to 0 popularity."
   ]
  },
  {
   "cell_type": "code",
   "execution_count": 906,
   "metadata": {},
   "outputs": [],
   "source": [
    "total.loc[(total['NewsDesk']=='Styles')&(total['SectionName'].isnull()),'NewsDesk'] = 'TStyle'"
   ]
  },
  {
   "cell_type": "code",
   "execution_count": 907,
   "metadata": {},
   "outputs": [
    {
     "data": {
      "text/html": [
       "<div>\n",
       "<style scoped>\n",
       "    .dataframe tbody tr th:only-of-type {\n",
       "        vertical-align: middle;\n",
       "    }\n",
       "\n",
       "    .dataframe tbody tr th {\n",
       "        vertical-align: top;\n",
       "    }\n",
       "\n",
       "    .dataframe thead th {\n",
       "        text-align: right;\n",
       "    }\n",
       "</style>\n",
       "<table border=\"1\" class=\"dataframe\">\n",
       "  <thead>\n",
       "    <tr style=\"text-align: right;\">\n",
       "      <th></th>\n",
       "      <th>NewsDesk</th>\n",
       "      <th>SectionName</th>\n",
       "      <th>SubsectionName</th>\n",
       "      <th>Headline</th>\n",
       "      <th>Snippet</th>\n",
       "      <th>Abstract</th>\n",
       "      <th>WordCount</th>\n",
       "      <th>PubDate</th>\n",
       "      <th>Popular</th>\n",
       "      <th>UniqueID</th>\n",
       "      <th>Weekday</th>\n",
       "      <th>Hour</th>\n",
       "      <th>Symbol</th>\n",
       "      <th>QandA</th>\n",
       "    </tr>\n",
       "  </thead>\n",
       "  <tbody>\n",
       "    <tr>\n",
       "      <th>11</th>\n",
       "      <td>Foreign</td>\n",
       "      <td>NaN</td>\n",
       "      <td>NaN</td>\n",
       "      <td>1939: German Troops Invade Poland</td>\n",
       "      <td>Highlights from the International Herald Tribu...</td>\n",
       "      <td>Highlights from the International Herald Tribu...</td>\n",
       "      <td>97</td>\n",
       "      <td>2014-09-01 14:39:00</td>\n",
       "      <td>0.0</td>\n",
       "      <td>12</td>\n",
       "      <td>0</td>\n",
       "      <td>14</td>\n",
       "      <td>0</td>\n",
       "      <td>0</td>\n",
       "    </tr>\n",
       "    <tr>\n",
       "      <th>20</th>\n",
       "      <td>Foreign</td>\n",
       "      <td>NaN</td>\n",
       "      <td>NaN</td>\n",
       "      <td>1914: Russian Army Scores Victory</td>\n",
       "      <td>Highlights from the International Herald Tribu...</td>\n",
       "      <td>Highlights from the International Herald Tribu...</td>\n",
       "      <td>108</td>\n",
       "      <td>2014-09-01 09:30:00</td>\n",
       "      <td>0.0</td>\n",
       "      <td>21</td>\n",
       "      <td>0</td>\n",
       "      <td>9</td>\n",
       "      <td>0</td>\n",
       "      <td>0</td>\n",
       "    </tr>\n",
       "    <tr>\n",
       "      <th>67</th>\n",
       "      <td>Foreign</td>\n",
       "      <td>NaN</td>\n",
       "      <td>NaN</td>\n",
       "      <td>1914: City Prepares for War Wounded</td>\n",
       "      <td>Highlights from the International Herald Tribu...</td>\n",
       "      <td>Highlights from the International Herald Tribu...</td>\n",
       "      <td>101</td>\n",
       "      <td>2014-09-02 13:34:00</td>\n",
       "      <td>0.0</td>\n",
       "      <td>68</td>\n",
       "      <td>1</td>\n",
       "      <td>13</td>\n",
       "      <td>0</td>\n",
       "      <td>0</td>\n",
       "    </tr>\n",
       "    <tr>\n",
       "      <th>81</th>\n",
       "      <td>Foreign</td>\n",
       "      <td>NaN</td>\n",
       "      <td>NaN</td>\n",
       "      <td>1889: British Traders in East Africa</td>\n",
       "      <td>Highlights from the International Herald Tribu...</td>\n",
       "      <td>Highlights from the International Herald Tribu...</td>\n",
       "      <td>122</td>\n",
       "      <td>2014-09-02 10:48:00</td>\n",
       "      <td>0.0</td>\n",
       "      <td>82</td>\n",
       "      <td>1</td>\n",
       "      <td>10</td>\n",
       "      <td>0</td>\n",
       "      <td>0</td>\n",
       "    </tr>\n",
       "    <tr>\n",
       "      <th>184</th>\n",
       "      <td>Foreign</td>\n",
       "      <td>NaN</td>\n",
       "      <td>NaN</td>\n",
       "      <td>1939: War on Germany Declared</td>\n",
       "      <td>Highlights from the International Herald Tribu...</td>\n",
       "      <td>Highlights from the International Herald Tribu...</td>\n",
       "      <td>79</td>\n",
       "      <td>2014-09-03 07:41:00</td>\n",
       "      <td>0.0</td>\n",
       "      <td>185</td>\n",
       "      <td>2</td>\n",
       "      <td>7</td>\n",
       "      <td>0</td>\n",
       "      <td>0</td>\n",
       "    </tr>\n",
       "  </tbody>\n",
       "</table>\n",
       "</div>"
      ],
      "text/plain": [
       "    NewsDesk SectionName SubsectionName                              Headline  \\\n",
       "11   Foreign         NaN            NaN    1939: German Troops Invade Poland    \n",
       "20   Foreign         NaN            NaN     1914: Russian Army Scores Victory   \n",
       "67   Foreign         NaN            NaN   1914: City Prepares for War Wounded   \n",
       "81   Foreign         NaN            NaN  1889: British Traders in East Africa   \n",
       "184  Foreign         NaN            NaN         1939: War on Germany Declared   \n",
       "\n",
       "                                               Snippet  \\\n",
       "11   Highlights from the International Herald Tribu...   \n",
       "20   Highlights from the International Herald Tribu...   \n",
       "67   Highlights from the International Herald Tribu...   \n",
       "81   Highlights from the International Herald Tribu...   \n",
       "184  Highlights from the International Herald Tribu...   \n",
       "\n",
       "                                              Abstract  WordCount  \\\n",
       "11   Highlights from the International Herald Tribu...         97   \n",
       "20   Highlights from the International Herald Tribu...        108   \n",
       "67   Highlights from the International Herald Tribu...        101   \n",
       "81   Highlights from the International Herald Tribu...        122   \n",
       "184  Highlights from the International Herald Tribu...         79   \n",
       "\n",
       "                PubDate  Popular  UniqueID  Weekday  Hour  Symbol  QandA  \n",
       "11  2014-09-01 14:39:00      0.0        12        0    14       0      0  \n",
       "20  2014-09-01 09:30:00      0.0        21        0     9       0      0  \n",
       "67  2014-09-02 13:34:00      0.0        68        1    13       0      0  \n",
       "81  2014-09-02 10:48:00      0.0        82        1    10       0      0  \n",
       "184 2014-09-03 07:41:00      0.0       185        2     7       0      0  "
      ]
     },
     "execution_count": 907,
     "metadata": {},
     "output_type": "execute_result"
    }
   ],
   "source": [
    "total[(total['NewsDesk']=='Foreign')&(total['SectionName'].isnull())].head()"
   ]
  },
  {
   "cell_type": "markdown",
   "metadata": {},
   "source": [
    "We can see that all these lead to 0 popularity."
   ]
  },
  {
   "cell_type": "code",
   "execution_count": 908,
   "metadata": {
    "collapsed": true
   },
   "outputs": [],
   "source": [
    "total.loc[(total['NewsDesk']=='Foreign')&(total['SectionName'].isnull()),'NewsDesk']='History'"
   ]
  },
  {
   "cell_type": "code",
   "execution_count": 909,
   "metadata": {
    "collapsed": true
   },
   "outputs": [],
   "source": [
    "total.loc[(total['Headline'].str.contains(r'^1[0-9]{3}')),'NewsDesk']='History'\n",
    "total.loc[(total['NewsDesk']=='History'),'SectionName']='History'\n",
    "total.loc[(total['NewsDesk']=='History'),'SubsectionName']='History'"
   ]
  },
  {
   "cell_type": "code",
   "execution_count": 910,
   "metadata": {
    "collapsed": true
   },
   "outputs": [],
   "source": [
    "total.loc[(total['Headline']=='Daily Clip Report'),'SectionName'] = 'Clip Report'\n",
    "total.loc[total['Headline']=='Today in Politics','SectionName']='Today in Politics'\n",
    "total.loc[(total['Headline'].str.contains(r'what we\\'re reading', case=False)),'SectionName']='What We\\'re reading'\n",
    "total.loc[(total['Headline'].str.contains('daily report', case=False)),'SectionName']='Daily Report'\n",
    "total.loc[(total['Headline'].str.contains(r'first draft', case=False)),'SectionName'] = 'First draft'\n",
    "total.loc[((total['NewsDesk'].isnull()) & (total['Headline'] .str.contains('Magazine', case=False))),'SectionName']='Magazine'"
   ]
  },
  {
   "cell_type": "code",
   "execution_count": 911,
   "metadata": {
    "collapsed": true
   },
   "outputs": [],
   "source": [
    "total.loc[total['SectionName'] == 'Clip Report', 'NewsDesk'] = 'Daily'\n",
    "total.loc[(total['Headline'].str.contains('Pictures of the Day|week in pictures',case=False)),'NewsDesk']='Daily'\n",
    "total.loc[total['SectionName'] == 'Today in Politics', 'NewsDesk'] = 'Daily'\n",
    "total.loc[total['SectionName'] == 'What We\\'re reading', 'NewsDesk'] = 'Daily'\n",
    "total.loc[total['SectionName'] == 'First draft', 'NewsDesk'] = 'Daily'\n",
    "total.loc[total['SectionName'] == 'Daily', 'NewsDesk'] = 'Daily'\n",
    "total.loc[total['SubsectionName'] == 'Education', 'NewsDesk'] = 'Daily'\n",
    "total.loc[total['SectionName'] == 'Daily Report', 'NewsDesk'] = 'Daily'"
   ]
  },
  {
   "cell_type": "markdown",
   "metadata": {},
   "source": [
    "Now Filling the remaining missing entries by observing the patterns."
   ]
  },
  {
   "cell_type": "markdown",
   "metadata": {},
   "source": [
    "SectionName To NewsDesk"
   ]
  },
  {
   "cell_type": "code",
   "execution_count": 912,
   "metadata": {
    "collapsed": true
   },
   "outputs": [],
   "source": [
    "total.loc[total['SectionName'] == 'Business Day', 'NewsDesk'] = 'Business'\n",
    "total.loc[total['SectionName'] == 'Opinion','NewsDesk'] = 'OpEd'\n",
    "total.loc[total['SectionName'] == 'Crosswords/Games', 'NewsDesk'] = 'Business'\n",
    "total.loc[total['SectionName'] == 'Technology', 'NewsDesk'] = 'Business'\n",
    "total.loc[total['SectionName'] == 'Arts', 'NewsDesk'] = 'Culture'\n",
    "total.loc[total['SectionName'] == 'World', 'NewsDesk'] = 'Foreign'\n",
    "total.loc[total['SectionName'] == 'Health', 'NewsDesk'] = 'Science'\n",
    "total.loc[total['SectionName'] == 'Style', 'NewsDesk'] = 'Styles'\n",
    "total.loc[total['SectionName'] == 'Multimedia', 'NewsDesk'] = 'Multimedia'\n",
    "total.loc[total['SectionName'] == 'Magazine', 'NewsDesk'] = 'Magazine'\n",
    "total.loc[total['SectionName'] == 'Travel', 'NewsDesk'] = 'Travel'\n",
    "total.loc[total['SectionName'] == 'Open', 'NewsDesk'] = 'Open'\n",
    "total.loc[total['SectionName'] == 'N.Y. / Region', 'NewsDesk'] = 'Metro'"
   ]
  },
  {
   "cell_type": "markdown",
   "metadata": {},
   "source": [
    "NewsDesk to SectionName"
   ]
  },
  {
   "cell_type": "code",
   "execution_count": 913,
   "metadata": {
    "collapsed": true
   },
   "outputs": [],
   "source": [
    "total.loc[total['NewsDesk'] == 'TStyle', 'SectionName'] = 'TStyle'\n",
    "total.loc[total['NewsDesk'] == 'Culture', 'SectionName'] = 'Arts'\n",
    "total.loc[total['NewsDesk'] == 'OpEd', 'SectionName'] = 'Opinion'\n",
    "total.loc[total['NewsDesk'] == 'History', 'SectionName'] = 'History'\n",
    "\n"
   ]
  },
  {
   "cell_type": "markdown",
   "metadata": {},
   "source": [
    "SectionName to SubsectionName"
   ]
  },
  {
   "cell_type": "code",
   "execution_count": 914,
   "metadata": {
    "collapsed": true
   },
   "outputs": [],
   "source": [
    "total.loc[total['SectionName'] == 'Crosswords/Games', 'SubsectionName'] = 'Crosswords/Games'\n",
    "total.loc[total['SectionName'] == 'Technology', 'SubsectionName'] = 'Technology'\n",
    "total.loc[total['SectionName'] == 'Technology', 'SubsectionName'] = 'Technology'\n",
    "\n",
    "\n"
   ]
  },
  {
   "cell_type": "markdown",
   "metadata": {},
   "source": [
    "NewsDesk to SubsectionName"
   ]
  },
  {
   "cell_type": "code",
   "execution_count": 915,
   "metadata": {
    "collapsed": true
   },
   "outputs": [],
   "source": [
    "total.loc[total['NewsDesk'] == 'TStyle','SubsectionName'] = 'TStyle'\n",
    "total.loc[total['NewsDesk'] == 'Open','SubsectionName'] = 'Open'\n",
    "total.loc[total['NewsDesk'] == 'Culture','SubsectionName'] = 'Arts'\n",
    "total.loc[total['NewsDesk'] == 'Daily','SubsectionName'] = 'Rubric'\n",
    "total.loc[total['NewsDesk'] == 'Magazine','SubsectionName'] = 'Magazine'\n",
    "total.loc[total['NewsDesk'] == 'Metro','SubsectionName'] = 'Metro'\n",
    "total.loc[total['NewsDesk'] == 'Multimedia','SubsectionName'] = 'Multimedia'\n",
    "total.loc[total['NewsDesk'] == 'OpEd','SubsectionName'] = 'OpEd'\n",
    "total.loc[total['NewsDesk'] == 'Culture','SubsectionName'] = 'Arts'\n",
    "total.loc[total['NewsDesk'] == 'Science','SubsectionName'] = 'Science'\n",
    "total.loc[total['NewsDesk'] == 'Sports','SubsectionName'] = 'Sports'\n",
    "total.loc[total['NewsDesk'] == 'Styles','SubsectionName'] = 'Styles'\n",
    "total.loc[total['NewsDesk'] == 'Travel','SubsectionName'] = 'Travel'\n",
    "total.loc[total['NewsDesk'] == 'History','SubsectionName'] = 'History'"
   ]
  },
  {
   "cell_type": "code",
   "execution_count": 916,
   "metadata": {},
   "outputs": [
    {
     "data": {
      "text/html": [
       "<div>\n",
       "<style scoped>\n",
       "    .dataframe tbody tr th:only-of-type {\n",
       "        vertical-align: middle;\n",
       "    }\n",
       "\n",
       "    .dataframe tbody tr th {\n",
       "        vertical-align: top;\n",
       "    }\n",
       "\n",
       "    .dataframe thead th {\n",
       "        text-align: right;\n",
       "    }\n",
       "</style>\n",
       "<table border=\"1\" class=\"dataframe\">\n",
       "  <thead>\n",
       "    <tr style=\"text-align: right;\">\n",
       "      <th></th>\n",
       "      <th>NewsDesk</th>\n",
       "      <th>SectionName</th>\n",
       "      <th>SubsectionName</th>\n",
       "      <th>Headline</th>\n",
       "      <th>Snippet</th>\n",
       "      <th>Abstract</th>\n",
       "      <th>WordCount</th>\n",
       "      <th>PubDate</th>\n",
       "      <th>Popular</th>\n",
       "      <th>UniqueID</th>\n",
       "      <th>Weekday</th>\n",
       "      <th>Hour</th>\n",
       "      <th>Symbol</th>\n",
       "      <th>QandA</th>\n",
       "    </tr>\n",
       "  </thead>\n",
       "  <tbody>\n",
       "    <tr>\n",
       "      <th>0</th>\n",
       "      <td>Business</td>\n",
       "      <td>Crosswords/Games</td>\n",
       "      <td>Crosswords/Games</td>\n",
       "      <td>More School Daze</td>\n",
       "      <td>A puzzle from Ethan Cooper that reminds me tha...</td>\n",
       "      <td>A puzzle from Ethan Cooper that reminds me tha...</td>\n",
       "      <td>508</td>\n",
       "      <td>2014-09-01 22:00:00</td>\n",
       "      <td>1.0</td>\n",
       "      <td>1</td>\n",
       "      <td>0</td>\n",
       "      <td>22</td>\n",
       "      <td>0</td>\n",
       "      <td>0</td>\n",
       "    </tr>\n",
       "    <tr>\n",
       "      <th>1</th>\n",
       "      <td>Culture</td>\n",
       "      <td>Arts</td>\n",
       "      <td>Arts</td>\n",
       "      <td>New 96-Page Murakami Work Coming in December</td>\n",
       "      <td>The Strange Library will arrive just three and...</td>\n",
       "      <td>The Strange Library will arrive just three and...</td>\n",
       "      <td>285</td>\n",
       "      <td>2014-09-01 21:14:00</td>\n",
       "      <td>0.0</td>\n",
       "      <td>2</td>\n",
       "      <td>0</td>\n",
       "      <td>21</td>\n",
       "      <td>0</td>\n",
       "      <td>0</td>\n",
       "    </tr>\n",
       "    <tr>\n",
       "      <th>2</th>\n",
       "      <td>Business</td>\n",
       "      <td>Business Day</td>\n",
       "      <td>Dealbook</td>\n",
       "      <td>Public Pension Funds Stay Mum on Corporate Expats</td>\n",
       "      <td>Public pension funds have major stakes in Amer...</td>\n",
       "      <td>Public pension funds have major stakes in Amer...</td>\n",
       "      <td>1211</td>\n",
       "      <td>2014-09-01 21:05:00</td>\n",
       "      <td>0.0</td>\n",
       "      <td>3</td>\n",
       "      <td>0</td>\n",
       "      <td>21</td>\n",
       "      <td>0</td>\n",
       "      <td>0</td>\n",
       "    </tr>\n",
       "    <tr>\n",
       "      <th>3</th>\n",
       "      <td>Business</td>\n",
       "      <td>Business Day</td>\n",
       "      <td>Dealbook</td>\n",
       "      <td>Boot Camp for Bankers</td>\n",
       "      <td>As they struggle to find new business to bolst...</td>\n",
       "      <td>As they struggle to find new business to bolst...</td>\n",
       "      <td>1405</td>\n",
       "      <td>2014-09-01 20:43:00</td>\n",
       "      <td>1.0</td>\n",
       "      <td>4</td>\n",
       "      <td>0</td>\n",
       "      <td>20</td>\n",
       "      <td>0</td>\n",
       "      <td>0</td>\n",
       "    </tr>\n",
       "    <tr>\n",
       "      <th>4</th>\n",
       "      <td>Science</td>\n",
       "      <td>Health</td>\n",
       "      <td>Science</td>\n",
       "      <td>Of Little Help to Older Knees</td>\n",
       "      <td>Middle-aged and older patients are unlikely to...</td>\n",
       "      <td>Middle-aged and older patients are unlikely to...</td>\n",
       "      <td>181</td>\n",
       "      <td>2014-09-01 18:58:00</td>\n",
       "      <td>1.0</td>\n",
       "      <td>5</td>\n",
       "      <td>0</td>\n",
       "      <td>18</td>\n",
       "      <td>0</td>\n",
       "      <td>0</td>\n",
       "    </tr>\n",
       "  </tbody>\n",
       "</table>\n",
       "</div>"
      ],
      "text/plain": [
       "   NewsDesk       SectionName    SubsectionName  \\\n",
       "0  Business  Crosswords/Games  Crosswords/Games   \n",
       "1   Culture              Arts              Arts   \n",
       "2  Business      Business Day          Dealbook   \n",
       "3  Business      Business Day          Dealbook   \n",
       "4   Science            Health           Science   \n",
       "\n",
       "                                            Headline  \\\n",
       "0                                   More School Daze   \n",
       "1       New 96-Page Murakami Work Coming in December   \n",
       "2  Public Pension Funds Stay Mum on Corporate Expats   \n",
       "3                              Boot Camp for Bankers   \n",
       "4                      Of Little Help to Older Knees   \n",
       "\n",
       "                                             Snippet  \\\n",
       "0  A puzzle from Ethan Cooper that reminds me tha...   \n",
       "1  The Strange Library will arrive just three and...   \n",
       "2  Public pension funds have major stakes in Amer...   \n",
       "3  As they struggle to find new business to bolst...   \n",
       "4  Middle-aged and older patients are unlikely to...   \n",
       "\n",
       "                                            Abstract  WordCount  \\\n",
       "0  A puzzle from Ethan Cooper that reminds me tha...        508   \n",
       "1  The Strange Library will arrive just three and...        285   \n",
       "2  Public pension funds have major stakes in Amer...       1211   \n",
       "3  As they struggle to find new business to bolst...       1405   \n",
       "4  Middle-aged and older patients are unlikely to...        181   \n",
       "\n",
       "              PubDate  Popular  UniqueID  Weekday  Hour  Symbol  QandA  \n",
       "0 2014-09-01 22:00:00      1.0         1        0    22       0      0  \n",
       "1 2014-09-01 21:14:00      0.0         2        0    21       0      0  \n",
       "2 2014-09-01 21:05:00      0.0         3        0    21       0      0  \n",
       "3 2014-09-01 20:43:00      1.0         4        0    20       0      0  \n",
       "4 2014-09-01 18:58:00      1.0         5        0    18       0      0  "
      ]
     },
     "execution_count": 916,
     "metadata": {},
     "output_type": "execute_result"
    }
   ],
   "source": [
    "total.head()"
   ]
  },
  {
   "cell_type": "code",
   "execution_count": 917,
   "metadata": {},
   "outputs": [
    {
     "data": {
      "text/plain": [
       "1345"
      ]
     },
     "execution_count": 917,
     "metadata": {},
     "output_type": "execute_result"
    }
   ],
   "source": [
    "len(total[total['SubsectionName'].isnull()])"
   ]
  },
  {
   "cell_type": "code",
   "execution_count": 918,
   "metadata": {},
   "outputs": [
    {
     "data": {
      "text/plain": [
       "1337"
      ]
     },
     "execution_count": 918,
     "metadata": {},
     "output_type": "execute_result"
    }
   ],
   "source": [
    "len(total[total['SectionName'].isnull()])"
   ]
  },
  {
   "cell_type": "code",
   "execution_count": 919,
   "metadata": {},
   "outputs": [
    {
     "data": {
      "text/plain": [
       "1327"
      ]
     },
     "execution_count": 919,
     "metadata": {},
     "output_type": "execute_result"
    }
   ],
   "source": [
    "len(total[total['NewsDesk'].isnull()])"
   ]
  },
  {
   "cell_type": "markdown",
   "metadata": {},
   "source": [
    "Still we have 1327 missing entries in NewsDesk"
   ]
  },
  {
   "cell_type": "markdown",
   "metadata": {},
   "source": [
    "Thus to fill them, we create clusters by K-Means Clustering."
   ]
  },
  {
   "cell_type": "code",
   "execution_count": 920,
   "metadata": {
    "collapsed": true
   },
   "outputs": [],
   "source": [
    "from sklearn.cluster import KMeans\n",
    "from sklearn.feature_extraction.text import TfidfVectorizer\n",
    "from scipy.spatial.distance import cdist"
   ]
  },
  {
   "cell_type": "code",
   "execution_count": 921,
   "metadata": {
    "collapsed": true
   },
   "outputs": [],
   "source": [
    "nans = total.loc[total['NewsDesk'].isnull()]\n",
    "words = list(nans.apply(lambda x:'%s' % (x['Abstract']),axis=1))\n",
    "tfv = TfidfVectorizer(min_df=0.005,  max_features=None, \n",
    "        strip_accents='unicode', analyzer='word',token_pattern=r'\\w{1,}',\n",
    "        ngram_range=(1, 2), use_idf=1,smooth_idf=1,sublinear_tf=1,\n",
    "        stop_words = 'english')\n",
    "X = tfv.fit_transform(words)"
   ]
  },
  {
   "cell_type": "markdown",
   "metadata": {},
   "source": [
    "First we calculate the ideal number of clusters by elbow method. Here it comes to be approximately equal to 5."
   ]
  },
  {
   "cell_type": "code",
   "execution_count": 922,
   "metadata": {},
   "outputs": [
    {
     "data": {
      "image/png": "[encoded data removed]",
      "text/plain": [
       "<matplotlib.figure.Figure at 0x2233821b898>"
      ]
     },
     "metadata": {},
     "output_type": "display_data"
    }
   ],
   "source": [
    "w=[]\n",
    "for i in range(1,11):\n",
    "    kmeans= KMeans(n_clusters=i, init='k-means++',random_state=0)\n",
    "    kmeans=kmeans.fit(X)\n",
    "    w.append(kmeans.inertia_ )\n",
    "plt.plot(range(1,11),w)\n",
    "plt.show()   \n",
    "%matplotlib inline"
   ]
  },
  {
   "cell_type": "code",
   "execution_count": 923,
   "metadata": {},
   "outputs": [],
   "source": [
    "kmeans= KMeans(n_clusters=5, init='k-means++',random_state=0).fit(X.toarray())\n",
    "total.loc[total['NewsDesk'].isnull(), 'cluster'] = kmeans.labels_"
   ]
  },
  {
   "cell_type": "code",
   "execution_count": 924,
   "metadata": {},
   "outputs": [
    {
     "data": {
      "text/html": [
       "<div>\n",
       "<style scoped>\n",
       "    .dataframe tbody tr th:only-of-type {\n",
       "        vertical-align: middle;\n",
       "    }\n",
       "\n",
       "    .dataframe tbody tr th {\n",
       "        vertical-align: top;\n",
       "    }\n",
       "\n",
       "    .dataframe thead th {\n",
       "        text-align: right;\n",
       "    }\n",
       "</style>\n",
       "<table border=\"1\" class=\"dataframe\">\n",
       "  <thead>\n",
       "    <tr style=\"text-align: right;\">\n",
       "      <th></th>\n",
       "      <th>NewsDesk</th>\n",
       "      <th>SectionName</th>\n",
       "      <th>SubsectionName</th>\n",
       "      <th>Headline</th>\n",
       "      <th>Snippet</th>\n",
       "      <th>Abstract</th>\n",
       "      <th>WordCount</th>\n",
       "      <th>PubDate</th>\n",
       "      <th>Popular</th>\n",
       "      <th>UniqueID</th>\n",
       "      <th>Weekday</th>\n",
       "      <th>Hour</th>\n",
       "      <th>Symbol</th>\n",
       "      <th>QandA</th>\n",
       "      <th>cluster</th>\n",
       "    </tr>\n",
       "  </thead>\n",
       "  <tbody>\n",
       "    <tr>\n",
       "      <th>1454</th>\n",
       "      <td>NaN</td>\n",
       "      <td>NaN</td>\n",
       "      <td>NaN</td>\n",
       "      <td>Push for New Climate Change Pact as U.N. Summi...</td>\n",
       "      <td>The United Nations will convene a summit meeti...</td>\n",
       "      <td>The United Nations will convene a summit meeti...</td>\n",
       "      <td>166</td>\n",
       "      <td>2014-09-21 16:23:00</td>\n",
       "      <td>0.0</td>\n",
       "      <td>1455</td>\n",
       "      <td>6</td>\n",
       "      <td>16</td>\n",
       "      <td>0</td>\n",
       "      <td>0</td>\n",
       "      <td>1.0</td>\n",
       "    </tr>\n",
       "    <tr>\n",
       "      <th>1458</th>\n",
       "      <td>NaN</td>\n",
       "      <td>NaN</td>\n",
       "      <td>NaN</td>\n",
       "      <td>President Hassan Rouhani of Iran - U.N. Genera...</td>\n",
       "      <td>How will President Rouhanis appeal to the Unit...</td>\n",
       "      <td>How will President Rouhanis appeal to the Unit...</td>\n",
       "      <td>402</td>\n",
       "      <td>2014-09-21 15:14:00</td>\n",
       "      <td>0.0</td>\n",
       "      <td>1459</td>\n",
       "      <td>6</td>\n",
       "      <td>15</td>\n",
       "      <td>0</td>\n",
       "      <td>0</td>\n",
       "      <td>1.0</td>\n",
       "    </tr>\n",
       "    <tr>\n",
       "      <th>1461</th>\n",
       "      <td>NaN</td>\n",
       "      <td>NaN</td>\n",
       "      <td>NaN</td>\n",
       "      <td>President Goodluck Jonathan of Nigeria - U.N. ...</td>\n",
       "      <td>President Goodluck Jonathan of Nigeria is sche...</td>\n",
       "      <td>President Goodluck Jonathan of Nigeria is sche...</td>\n",
       "      <td>281</td>\n",
       "      <td>2014-09-21 15:01:00</td>\n",
       "      <td>0.0</td>\n",
       "      <td>1462</td>\n",
       "      <td>6</td>\n",
       "      <td>15</td>\n",
       "      <td>0</td>\n",
       "      <td>0</td>\n",
       "      <td>1.0</td>\n",
       "    </tr>\n",
       "    <tr>\n",
       "      <th>1462</th>\n",
       "      <td>NaN</td>\n",
       "      <td>NaN</td>\n",
       "      <td>NaN</td>\n",
       "      <td>What Nawaz Sharif of Pakistan Seeks</td>\n",
       "      <td>Since Prime Minister Nawaz Sharif of Pakistan ...</td>\n",
       "      <td>Since Prime Minister Nawaz Sharif of Pakistan ...</td>\n",
       "      <td>331</td>\n",
       "      <td>2014-09-21 15:00:00</td>\n",
       "      <td>0.0</td>\n",
       "      <td>1463</td>\n",
       "      <td>6</td>\n",
       "      <td>15</td>\n",
       "      <td>0</td>\n",
       "      <td>0</td>\n",
       "      <td>1.0</td>\n",
       "    </tr>\n",
       "    <tr>\n",
       "      <th>1488</th>\n",
       "      <td>NaN</td>\n",
       "      <td>NaN</td>\n",
       "      <td>NaN</td>\n",
       "      <td>What to Expect From Narendra Modi at the Unite...</td>\n",
       "      <td>Since taking power in May, Prime Minister Nare...</td>\n",
       "      <td>Since taking power in May, Prime Minister Nare...</td>\n",
       "      <td>513</td>\n",
       "      <td>2014-09-22 20:30:00</td>\n",
       "      <td>1.0</td>\n",
       "      <td>1489</td>\n",
       "      <td>0</td>\n",
       "      <td>20</td>\n",
       "      <td>0</td>\n",
       "      <td>0</td>\n",
       "      <td>1.0</td>\n",
       "    </tr>\n",
       "  </tbody>\n",
       "</table>\n",
       "</div>"
      ],
      "text/plain": [
       "     NewsDesk SectionName SubsectionName  \\\n",
       "1454      NaN         NaN            NaN   \n",
       "1458      NaN         NaN            NaN   \n",
       "1461      NaN         NaN            NaN   \n",
       "1462      NaN         NaN            NaN   \n",
       "1488      NaN         NaN            NaN   \n",
       "\n",
       "                                               Headline  \\\n",
       "1454  Push for New Climate Change Pact as U.N. Summi...   \n",
       "1458  President Hassan Rouhani of Iran - U.N. Genera...   \n",
       "1461  President Goodluck Jonathan of Nigeria - U.N. ...   \n",
       "1462                What Nawaz Sharif of Pakistan Seeks   \n",
       "1488  What to Expect From Narendra Modi at the Unite...   \n",
       "\n",
       "                                                Snippet  \\\n",
       "1454  The United Nations will convene a summit meeti...   \n",
       "1458  How will President Rouhanis appeal to the Unit...   \n",
       "1461  President Goodluck Jonathan of Nigeria is sche...   \n",
       "1462  Since Prime Minister Nawaz Sharif of Pakistan ...   \n",
       "1488  Since taking power in May, Prime Minister Nare...   \n",
       "\n",
       "                                               Abstract  WordCount  \\\n",
       "1454  The United Nations will convene a summit meeti...        166   \n",
       "1458  How will President Rouhanis appeal to the Unit...        402   \n",
       "1461  President Goodluck Jonathan of Nigeria is sche...        281   \n",
       "1462  Since Prime Minister Nawaz Sharif of Pakistan ...        331   \n",
       "1488  Since taking power in May, Prime Minister Nare...        513   \n",
       "\n",
       "                 PubDate  Popular  UniqueID  Weekday  Hour  Symbol  QandA  \\\n",
       "1454 2014-09-21 16:23:00      0.0      1455        6    16       0      0   \n",
       "1458 2014-09-21 15:14:00      0.0      1459        6    15       0      0   \n",
       "1461 2014-09-21 15:01:00      0.0      1462        6    15       0      0   \n",
       "1462 2014-09-21 15:00:00      0.0      1463        6    15       0      0   \n",
       "1488 2014-09-22 20:30:00      1.0      1489        0    20       0      0   \n",
       "\n",
       "      cluster  \n",
       "1454      1.0  \n",
       "1458      1.0  \n",
       "1461      1.0  \n",
       "1462      1.0  \n",
       "1488      1.0  "
      ]
     },
     "execution_count": 924,
     "metadata": {},
     "output_type": "execute_result"
    }
   ],
   "source": [
    "total.loc[total['cluster'] == 1].head()"
   ]
  },
  {
   "cell_type": "code",
   "execution_count": 925,
   "metadata": {},
   "outputs": [],
   "source": [
    "cluster_to = {}\n",
    "cluster_to['NewsDesk'] = {4: 'OpEd', 2: 'National', 3: 'OpEd', 1: 'Foreign',0:'Metro'}\n",
    "cluster_to['SectionName'] = {4: 'Opinion', 2: 'U.S.', 3: 'Opinion', 1: 'Not_Asia_Pacific',0:'N.Y./Region'}\n",
    "cluster_to['SubsectionName'] = {4: 'OpEd', 2: 'Politics', 3: 'OpEd', 1: 'Not_Asia_Pacific',0:'NYT'}"
   ]
  },
  {
   "cell_type": "markdown",
   "metadata": {},
   "source": [
    "We check for each cluster manually and accordingly assign each cluster some NewsDesk,SectionName and SubsectionName."
   ]
  },
  {
   "cell_type": "code",
   "execution_count": 926,
   "metadata": {},
   "outputs": [],
   "source": [
    "for key in cluster_to:\n",
    "    for key2 in cluster_to[key]:\n",
    "        total.loc[(total['cluster'] == key2) & (nans['NewsDesk'].isnull()), key] = cluster_to[key][key2]"
   ]
  },
  {
   "cell_type": "code",
   "execution_count": 927,
   "metadata": {},
   "outputs": [
    {
     "data": {
      "text/html": [
       "<div>\n",
       "<style scoped>\n",
       "    .dataframe tbody tr th:only-of-type {\n",
       "        vertical-align: middle;\n",
       "    }\n",
       "\n",
       "    .dataframe tbody tr th {\n",
       "        vertical-align: top;\n",
       "    }\n",
       "\n",
       "    .dataframe thead th {\n",
       "        text-align: right;\n",
       "    }\n",
       "</style>\n",
       "<table border=\"1\" class=\"dataframe\">\n",
       "  <thead>\n",
       "    <tr style=\"text-align: right;\">\n",
       "      <th></th>\n",
       "      <th>NewsDesk</th>\n",
       "      <th>SectionName</th>\n",
       "      <th>SubsectionName</th>\n",
       "      <th>Headline</th>\n",
       "      <th>Snippet</th>\n",
       "      <th>Abstract</th>\n",
       "      <th>WordCount</th>\n",
       "      <th>PubDate</th>\n",
       "      <th>Popular</th>\n",
       "      <th>UniqueID</th>\n",
       "      <th>Weekday</th>\n",
       "      <th>Hour</th>\n",
       "      <th>Symbol</th>\n",
       "      <th>QandA</th>\n",
       "      <th>cluster</th>\n",
       "    </tr>\n",
       "  </thead>\n",
       "  <tbody>\n",
       "    <tr>\n",
       "      <th>662</th>\n",
       "      <td>National</td>\n",
       "      <td>U.S.</td>\n",
       "      <td>Politics</td>\n",
       "      <td>Preparing for Obama's Speech</td>\n",
       "      <td>A look at how The Times planned for President ...</td>\n",
       "      <td>A look at how The Times planned for President ...</td>\n",
       "      <td>560</td>\n",
       "      <td>2014-09-10 18:16:00</td>\n",
       "      <td>0.0</td>\n",
       "      <td>663</td>\n",
       "      <td>2</td>\n",
       "      <td>18</td>\n",
       "      <td>0</td>\n",
       "      <td>0</td>\n",
       "      <td>2.0</td>\n",
       "    </tr>\n",
       "    <tr>\n",
       "      <th>687</th>\n",
       "      <td>National</td>\n",
       "      <td>U.S.</td>\n",
       "      <td>Politics</td>\n",
       "      <td>Highlights From Obama's Speech on ISIS</td>\n",
       "      <td>Coverage of President Obamas speech explaining...</td>\n",
       "      <td>Coverage of President Obamas speech explaining...</td>\n",
       "      <td>1842</td>\n",
       "      <td>2014-09-10 15:01:00</td>\n",
       "      <td>0.0</td>\n",
       "      <td>688</td>\n",
       "      <td>2</td>\n",
       "      <td>15</td>\n",
       "      <td>0</td>\n",
       "      <td>0</td>\n",
       "      <td>2.0</td>\n",
       "    </tr>\n",
       "    <tr>\n",
       "      <th>1456</th>\n",
       "      <td>National</td>\n",
       "      <td>U.S.</td>\n",
       "      <td>Politics</td>\n",
       "      <td>President Mahmoud Abbas Preps for U.N. Speech</td>\n",
       "      <td>President Mahmoud Abbas of the Palestinian Aut...</td>\n",
       "      <td>President Mahmoud Abbas of the Palestinian Aut...</td>\n",
       "      <td>317</td>\n",
       "      <td>2014-09-21 15:18:00</td>\n",
       "      <td>0.0</td>\n",
       "      <td>1457</td>\n",
       "      <td>6</td>\n",
       "      <td>15</td>\n",
       "      <td>0</td>\n",
       "      <td>0</td>\n",
       "      <td>2.0</td>\n",
       "    </tr>\n",
       "    <tr>\n",
       "      <th>1529</th>\n",
       "      <td>National</td>\n",
       "      <td>U.S.</td>\n",
       "      <td>Politics</td>\n",
       "      <td>Obama Not Bailing on a Judicial Nominee</td>\n",
       "      <td>Obama is not pulling back on his support of Ju...</td>\n",
       "      <td>Obama is not pulling back on his support of Ju...</td>\n",
       "      <td>145</td>\n",
       "      <td>2014-09-22 14:09:00</td>\n",
       "      <td>0.0</td>\n",
       "      <td>1530</td>\n",
       "      <td>0</td>\n",
       "      <td>14</td>\n",
       "      <td>0</td>\n",
       "      <td>0</td>\n",
       "      <td>2.0</td>\n",
       "    </tr>\n",
       "    <tr>\n",
       "      <th>1641</th>\n",
       "      <td>National</td>\n",
       "      <td>U.S.</td>\n",
       "      <td>Politics</td>\n",
       "      <td>Chelsea Clinton Offered a Presidential Motorca...</td>\n",
       "      <td>President Obama, speaking at the Clinton Globa...</td>\n",
       "      <td>President Obama, speaking at the Clinton Globa...</td>\n",
       "      <td>71</td>\n",
       "      <td>2014-09-23 16:04:00</td>\n",
       "      <td>0.0</td>\n",
       "      <td>1642</td>\n",
       "      <td>1</td>\n",
       "      <td>16</td>\n",
       "      <td>0</td>\n",
       "      <td>0</td>\n",
       "      <td>2.0</td>\n",
       "    </tr>\n",
       "  </tbody>\n",
       "</table>\n",
       "</div>"
      ],
      "text/plain": [
       "      NewsDesk SectionName SubsectionName  \\\n",
       "662   National        U.S.       Politics   \n",
       "687   National        U.S.       Politics   \n",
       "1456  National        U.S.       Politics   \n",
       "1529  National        U.S.       Politics   \n",
       "1641  National        U.S.       Politics   \n",
       "\n",
       "                                               Headline  \\\n",
       "662                        Preparing for Obama's Speech   \n",
       "687              Highlights From Obama's Speech on ISIS   \n",
       "1456      President Mahmoud Abbas Preps for U.N. Speech   \n",
       "1529            Obama Not Bailing on a Judicial Nominee   \n",
       "1641  Chelsea Clinton Offered a Presidential Motorca...   \n",
       "\n",
       "                                                Snippet  \\\n",
       "662   A look at how The Times planned for President ...   \n",
       "687   Coverage of President Obamas speech explaining...   \n",
       "1456  President Mahmoud Abbas of the Palestinian Aut...   \n",
       "1529  Obama is not pulling back on his support of Ju...   \n",
       "1641  President Obama, speaking at the Clinton Globa...   \n",
       "\n",
       "                                               Abstract  WordCount  \\\n",
       "662   A look at how The Times planned for President ...        560   \n",
       "687   Coverage of President Obamas speech explaining...       1842   \n",
       "1456  President Mahmoud Abbas of the Palestinian Aut...        317   \n",
       "1529  Obama is not pulling back on his support of Ju...        145   \n",
       "1641  President Obama, speaking at the Clinton Globa...         71   \n",
       "\n",
       "                 PubDate  Popular  UniqueID  Weekday  Hour  Symbol  QandA  \\\n",
       "662  2014-09-10 18:16:00      0.0       663        2    18       0      0   \n",
       "687  2014-09-10 15:01:00      0.0       688        2    15       0      0   \n",
       "1456 2014-09-21 15:18:00      0.0      1457        6    15       0      0   \n",
       "1529 2014-09-22 14:09:00      0.0      1530        0    14       0      0   \n",
       "1641 2014-09-23 16:04:00      0.0      1642        1    16       0      0   \n",
       "\n",
       "      cluster  \n",
       "662       2.0  \n",
       "687       2.0  \n",
       "1456      2.0  \n",
       "1529      2.0  \n",
       "1641      2.0  "
      ]
     },
     "execution_count": 927,
     "metadata": {},
     "output_type": "execute_result"
    }
   ],
   "source": [
    "total.loc[total['cluster'] == 2].head()"
   ]
  },
  {
   "cell_type": "code",
   "execution_count": 928,
   "metadata": {},
   "outputs": [],
   "source": [
    "total.drop('cluster', axis=1, inplace=True)"
   ]
  },
  {
   "cell_type": "code",
   "execution_count": 929,
   "metadata": {},
   "outputs": [
    {
     "data": {
      "text/plain": [
       "0"
      ]
     },
     "execution_count": 929,
     "metadata": {},
     "output_type": "execute_result"
    }
   ],
   "source": [
    "len(total[total['NewsDesk'].isnull()])"
   ]
  },
  {
   "cell_type": "code",
   "execution_count": 930,
   "metadata": {},
   "outputs": [
    {
     "data": {
      "text/plain": [
       "13"
      ]
     },
     "execution_count": 930,
     "metadata": {},
     "output_type": "execute_result"
    }
   ],
   "source": [
    "len(total[total['SectionName'].isnull()])"
   ]
  },
  {
   "cell_type": "code",
   "execution_count": 931,
   "metadata": {},
   "outputs": [
    {
     "data": {
      "text/plain": [
       "18"
      ]
     },
     "execution_count": 931,
     "metadata": {},
     "output_type": "execute_result"
    }
   ],
   "source": [
    "len(total[total['SubsectionName'].isnull()])"
   ]
  },
  {
   "cell_type": "markdown",
   "metadata": {},
   "source": [
    "Now also we have 18 missing values in SubsectionName.Thus checking manually now."
   ]
  },
  {
   "cell_type": "code",
   "execution_count": 932,
   "metadata": {},
   "outputs": [],
   "source": [
    "total.loc[total['NewsDesk'] == 'Foreign','SubsectionName'] = 'Asia Pacific'"
   ]
  },
  {
   "cell_type": "code",
   "execution_count": 933,
   "metadata": {
    "collapsed": true
   },
   "outputs": [],
   "source": [
    "total.loc[total['NewsDesk'] == 'Sports','SectionName'] = 'Sports'\n",
    "total.loc[total['NewsDesk'] == 'Science','SectionName'] = 'Health'"
   ]
  },
  {
   "cell_type": "code",
   "execution_count": 934,
   "metadata": {
    "collapsed": true
   },
   "outputs": [],
   "source": [
    "total.loc[total['NewsDesk'] == 'National','SectionName'] = 'U.S.'\n",
    "total.loc[total['NewsDesk'] == 'National','SubsectionName'] = 'Politics'"
   ]
  },
  {
   "cell_type": "code",
   "execution_count": 935,
   "metadata": {
    "collapsed": true
   },
   "outputs": [],
   "source": [
    "total.loc[(total['Headline'].str.contains('Firefox makes yahoo|music start to take shape|hollywood makes Robots',case=False)),'SectionName']='Technology'\n",
    "total.loc[(total['Headline'].str.contains('McCloskey|Seattle|Fracking and gambling',case=False)),'SectionName']='Business Day'\n",
    "total.loc[(total['SectionName']=='Technology'),'SubsectionName']='Technology'\n",
    "total.loc[(total['SectionName']=='Business Day'),'SubsectionName']='Dealbook'\n",
    "\n"
   ]
  },
  {
   "cell_type": "code",
   "execution_count": 936,
   "metadata": {},
   "outputs": [
    {
     "data": {
      "text/plain": [
       "0"
      ]
     },
     "execution_count": 936,
     "metadata": {},
     "output_type": "execute_result"
    }
   ],
   "source": [
    "len(total[total['NewsDesk'].isnull()])"
   ]
  },
  {
   "cell_type": "code",
   "execution_count": 937,
   "metadata": {},
   "outputs": [
    {
     "data": {
      "text/plain": [
       "0"
      ]
     },
     "execution_count": 937,
     "metadata": {},
     "output_type": "execute_result"
    }
   ],
   "source": [
    "len(total[total['SectionName'].isnull()])"
   ]
  },
  {
   "cell_type": "code",
   "execution_count": 938,
   "metadata": {},
   "outputs": [
    {
     "data": {
      "text/plain": [
       "0"
      ]
     },
     "execution_count": 938,
     "metadata": {},
     "output_type": "execute_result"
    }
   ],
   "source": [
    "len(total[total['SubsectionName'].isnull()])"
   ]
  },
  {
   "cell_type": "code",
   "execution_count": 939,
   "metadata": {},
   "outputs": [
    {
     "data": {
      "text/html": [
       "<div>\n",
       "<style scoped>\n",
       "    .dataframe tbody tr th:only-of-type {\n",
       "        vertical-align: middle;\n",
       "    }\n",
       "\n",
       "    .dataframe tbody tr th {\n",
       "        vertical-align: top;\n",
       "    }\n",
       "\n",
       "    .dataframe thead th {\n",
       "        text-align: right;\n",
       "    }\n",
       "</style>\n",
       "<table border=\"1\" class=\"dataframe\">\n",
       "  <thead>\n",
       "    <tr style=\"text-align: right;\">\n",
       "      <th></th>\n",
       "      <th>NewsDesk</th>\n",
       "      <th>SectionName</th>\n",
       "      <th>SubsectionName</th>\n",
       "      <th>Headline</th>\n",
       "      <th>Snippet</th>\n",
       "      <th>Abstract</th>\n",
       "      <th>WordCount</th>\n",
       "      <th>PubDate</th>\n",
       "      <th>Popular</th>\n",
       "      <th>UniqueID</th>\n",
       "      <th>Weekday</th>\n",
       "      <th>Hour</th>\n",
       "      <th>Symbol</th>\n",
       "      <th>QandA</th>\n",
       "    </tr>\n",
       "  </thead>\n",
       "  <tbody>\n",
       "    <tr>\n",
       "      <th>0</th>\n",
       "      <td>Business</td>\n",
       "      <td>Crosswords/Games</td>\n",
       "      <td>Crosswords/Games</td>\n",
       "      <td>More School Daze</td>\n",
       "      <td>A puzzle from Ethan Cooper that reminds me tha...</td>\n",
       "      <td>A puzzle from Ethan Cooper that reminds me tha...</td>\n",
       "      <td>508</td>\n",
       "      <td>2014-09-01 22:00:00</td>\n",
       "      <td>1.0</td>\n",
       "      <td>1</td>\n",
       "      <td>0</td>\n",
       "      <td>22</td>\n",
       "      <td>0</td>\n",
       "      <td>0</td>\n",
       "    </tr>\n",
       "    <tr>\n",
       "      <th>1</th>\n",
       "      <td>Culture</td>\n",
       "      <td>Arts</td>\n",
       "      <td>Arts</td>\n",
       "      <td>New 96-Page Murakami Work Coming in December</td>\n",
       "      <td>The Strange Library will arrive just three and...</td>\n",
       "      <td>The Strange Library will arrive just three and...</td>\n",
       "      <td>285</td>\n",
       "      <td>2014-09-01 21:14:00</td>\n",
       "      <td>0.0</td>\n",
       "      <td>2</td>\n",
       "      <td>0</td>\n",
       "      <td>21</td>\n",
       "      <td>0</td>\n",
       "      <td>0</td>\n",
       "    </tr>\n",
       "    <tr>\n",
       "      <th>2</th>\n",
       "      <td>Business</td>\n",
       "      <td>Business Day</td>\n",
       "      <td>Dealbook</td>\n",
       "      <td>Public Pension Funds Stay Mum on Corporate Expats</td>\n",
       "      <td>Public pension funds have major stakes in Amer...</td>\n",
       "      <td>Public pension funds have major stakes in Amer...</td>\n",
       "      <td>1211</td>\n",
       "      <td>2014-09-01 21:05:00</td>\n",
       "      <td>0.0</td>\n",
       "      <td>3</td>\n",
       "      <td>0</td>\n",
       "      <td>21</td>\n",
       "      <td>0</td>\n",
       "      <td>0</td>\n",
       "    </tr>\n",
       "    <tr>\n",
       "      <th>3</th>\n",
       "      <td>Business</td>\n",
       "      <td>Business Day</td>\n",
       "      <td>Dealbook</td>\n",
       "      <td>Boot Camp for Bankers</td>\n",
       "      <td>As they struggle to find new business to bolst...</td>\n",
       "      <td>As they struggle to find new business to bolst...</td>\n",
       "      <td>1405</td>\n",
       "      <td>2014-09-01 20:43:00</td>\n",
       "      <td>1.0</td>\n",
       "      <td>4</td>\n",
       "      <td>0</td>\n",
       "      <td>20</td>\n",
       "      <td>0</td>\n",
       "      <td>0</td>\n",
       "    </tr>\n",
       "    <tr>\n",
       "      <th>4</th>\n",
       "      <td>Science</td>\n",
       "      <td>Health</td>\n",
       "      <td>Science</td>\n",
       "      <td>Of Little Help to Older Knees</td>\n",
       "      <td>Middle-aged and older patients are unlikely to...</td>\n",
       "      <td>Middle-aged and older patients are unlikely to...</td>\n",
       "      <td>181</td>\n",
       "      <td>2014-09-01 18:58:00</td>\n",
       "      <td>1.0</td>\n",
       "      <td>5</td>\n",
       "      <td>0</td>\n",
       "      <td>18</td>\n",
       "      <td>0</td>\n",
       "      <td>0</td>\n",
       "    </tr>\n",
       "  </tbody>\n",
       "</table>\n",
       "</div>"
      ],
      "text/plain": [
       "   NewsDesk       SectionName    SubsectionName  \\\n",
       "0  Business  Crosswords/Games  Crosswords/Games   \n",
       "1   Culture              Arts              Arts   \n",
       "2  Business      Business Day          Dealbook   \n",
       "3  Business      Business Day          Dealbook   \n",
       "4   Science            Health           Science   \n",
       "\n",
       "                                            Headline  \\\n",
       "0                                   More School Daze   \n",
       "1       New 96-Page Murakami Work Coming in December   \n",
       "2  Public Pension Funds Stay Mum on Corporate Expats   \n",
       "3                              Boot Camp for Bankers   \n",
       "4                      Of Little Help to Older Knees   \n",
       "\n",
       "                                             Snippet  \\\n",
       "0  A puzzle from Ethan Cooper that reminds me tha...   \n",
       "1  The Strange Library will arrive just three and...   \n",
       "2  Public pension funds have major stakes in Amer...   \n",
       "3  As they struggle to find new business to bolst...   \n",
       "4  Middle-aged and older patients are unlikely to...   \n",
       "\n",
       "                                            Abstract  WordCount  \\\n",
       "0  A puzzle from Ethan Cooper that reminds me tha...        508   \n",
       "1  The Strange Library will arrive just three and...        285   \n",
       "2  Public pension funds have major stakes in Amer...       1211   \n",
       "3  As they struggle to find new business to bolst...       1405   \n",
       "4  Middle-aged and older patients are unlikely to...        181   \n",
       "\n",
       "              PubDate  Popular  UniqueID  Weekday  Hour  Symbol  QandA  \n",
       "0 2014-09-01 22:00:00      1.0         1        0    22       0      0  \n",
       "1 2014-09-01 21:14:00      0.0         2        0    21       0      0  \n",
       "2 2014-09-01 21:05:00      0.0         3        0    21       0      0  \n",
       "3 2014-09-01 20:43:00      1.0         4        0    20       0      0  \n",
       "4 2014-09-01 18:58:00      1.0         5        0    18       0      0  "
      ]
     },
     "execution_count": 939,
     "metadata": {},
     "output_type": "execute_result"
    }
   ],
   "source": [
    "total.head()"
   ]
  },
  {
   "cell_type": "code",
   "execution_count": 940,
   "metadata": {},
   "outputs": [
    {
     "name": "stderr",
     "output_type": "stream",
     "text": [
      "C:\\Users\\R AMARTYA\\Anaconda3\\lib\\site-packages\\ipykernel_launcher.py:8: FutureWarning: convert_objects is deprecated.  To re-infer data dtypes for object columns, use DataFrame.infer_objects()\n",
      "For all other conversions use the data-type specific converters pd.to_datetime, pd.to_timedelta and pd.to_numeric.\n",
      "  \n"
     ]
    },
    {
     "data": {
      "text/html": [
       "<div>\n",
       "<style scoped>\n",
       "    .dataframe tbody tr th:only-of-type {\n",
       "        vertical-align: middle;\n",
       "    }\n",
       "\n",
       "    .dataframe tbody tr th {\n",
       "        vertical-align: top;\n",
       "    }\n",
       "\n",
       "    .dataframe thead th {\n",
       "        text-align: right;\n",
       "    }\n",
       "</style>\n",
       "<table border=\"1\" class=\"dataframe\">\n",
       "  <thead>\n",
       "    <tr style=\"text-align: right;\">\n",
       "      <th></th>\n",
       "      <th>NewsDesk=Business</th>\n",
       "      <th>NewsDesk=Culture</th>\n",
       "      <th>NewsDesk=Daily</th>\n",
       "      <th>NewsDesk=Foreign</th>\n",
       "      <th>NewsDesk=History</th>\n",
       "      <th>NewsDesk=Magazine</th>\n",
       "      <th>NewsDesk=Metro</th>\n",
       "      <th>NewsDesk=Multimedia</th>\n",
       "      <th>NewsDesk=National</th>\n",
       "      <th>NewsDesk=OpEd</th>\n",
       "      <th>...</th>\n",
       "      <th>Snippet</th>\n",
       "      <th>Abstract</th>\n",
       "      <th>WordCount</th>\n",
       "      <th>PubDate</th>\n",
       "      <th>Popular</th>\n",
       "      <th>UniqueID</th>\n",
       "      <th>Weekday</th>\n",
       "      <th>Hour</th>\n",
       "      <th>Symbol</th>\n",
       "      <th>QandA</th>\n",
       "    </tr>\n",
       "  </thead>\n",
       "  <tbody>\n",
       "    <tr>\n",
       "      <th>0</th>\n",
       "      <td>1.0</td>\n",
       "      <td>0.0</td>\n",
       "      <td>0.0</td>\n",
       "      <td>0.0</td>\n",
       "      <td>0.0</td>\n",
       "      <td>0.0</td>\n",
       "      <td>0.0</td>\n",
       "      <td>0.0</td>\n",
       "      <td>0.0</td>\n",
       "      <td>0.0</td>\n",
       "      <td>...</td>\n",
       "      <td>A puzzle from Ethan Cooper that reminds me tha...</td>\n",
       "      <td>A puzzle from Ethan Cooper that reminds me tha...</td>\n",
       "      <td>508</td>\n",
       "      <td>2014-09-01 22:00:00</td>\n",
       "      <td>1.0</td>\n",
       "      <td>1</td>\n",
       "      <td>0</td>\n",
       "      <td>22</td>\n",
       "      <td>0</td>\n",
       "      <td>0</td>\n",
       "    </tr>\n",
       "    <tr>\n",
       "      <th>1</th>\n",
       "      <td>0.0</td>\n",
       "      <td>1.0</td>\n",
       "      <td>0.0</td>\n",
       "      <td>0.0</td>\n",
       "      <td>0.0</td>\n",
       "      <td>0.0</td>\n",
       "      <td>0.0</td>\n",
       "      <td>0.0</td>\n",
       "      <td>0.0</td>\n",
       "      <td>0.0</td>\n",
       "      <td>...</td>\n",
       "      <td>The Strange Library will arrive just three and...</td>\n",
       "      <td>The Strange Library will arrive just three and...</td>\n",
       "      <td>285</td>\n",
       "      <td>2014-09-01 21:14:00</td>\n",
       "      <td>0.0</td>\n",
       "      <td>2</td>\n",
       "      <td>0</td>\n",
       "      <td>21</td>\n",
       "      <td>0</td>\n",
       "      <td>0</td>\n",
       "    </tr>\n",
       "    <tr>\n",
       "      <th>2</th>\n",
       "      <td>1.0</td>\n",
       "      <td>0.0</td>\n",
       "      <td>0.0</td>\n",
       "      <td>0.0</td>\n",
       "      <td>0.0</td>\n",
       "      <td>0.0</td>\n",
       "      <td>0.0</td>\n",
       "      <td>0.0</td>\n",
       "      <td>0.0</td>\n",
       "      <td>0.0</td>\n",
       "      <td>...</td>\n",
       "      <td>Public pension funds have major stakes in Amer...</td>\n",
       "      <td>Public pension funds have major stakes in Amer...</td>\n",
       "      <td>1211</td>\n",
       "      <td>2014-09-01 21:05:00</td>\n",
       "      <td>0.0</td>\n",
       "      <td>3</td>\n",
       "      <td>0</td>\n",
       "      <td>21</td>\n",
       "      <td>0</td>\n",
       "      <td>0</td>\n",
       "    </tr>\n",
       "    <tr>\n",
       "      <th>3</th>\n",
       "      <td>1.0</td>\n",
       "      <td>0.0</td>\n",
       "      <td>0.0</td>\n",
       "      <td>0.0</td>\n",
       "      <td>0.0</td>\n",
       "      <td>0.0</td>\n",
       "      <td>0.0</td>\n",
       "      <td>0.0</td>\n",
       "      <td>0.0</td>\n",
       "      <td>0.0</td>\n",
       "      <td>...</td>\n",
       "      <td>As they struggle to find new business to bolst...</td>\n",
       "      <td>As they struggle to find new business to bolst...</td>\n",
       "      <td>1405</td>\n",
       "      <td>2014-09-01 20:43:00</td>\n",
       "      <td>1.0</td>\n",
       "      <td>4</td>\n",
       "      <td>0</td>\n",
       "      <td>20</td>\n",
       "      <td>0</td>\n",
       "      <td>0</td>\n",
       "    </tr>\n",
       "    <tr>\n",
       "      <th>4</th>\n",
       "      <td>0.0</td>\n",
       "      <td>0.0</td>\n",
       "      <td>0.0</td>\n",
       "      <td>0.0</td>\n",
       "      <td>0.0</td>\n",
       "      <td>0.0</td>\n",
       "      <td>0.0</td>\n",
       "      <td>0.0</td>\n",
       "      <td>0.0</td>\n",
       "      <td>0.0</td>\n",
       "      <td>...</td>\n",
       "      <td>Middle-aged and older patients are unlikely to...</td>\n",
       "      <td>Middle-aged and older patients are unlikely to...</td>\n",
       "      <td>181</td>\n",
       "      <td>2014-09-01 18:58:00</td>\n",
       "      <td>1.0</td>\n",
       "      <td>5</td>\n",
       "      <td>0</td>\n",
       "      <td>18</td>\n",
       "      <td>0</td>\n",
       "      <td>0</td>\n",
       "    </tr>\n",
       "  </tbody>\n",
       "</table>\n",
       "<p>5 rows × 70 columns</p>\n",
       "</div>"
      ],
      "text/plain": [
       "   NewsDesk=Business  NewsDesk=Culture  NewsDesk=Daily  NewsDesk=Foreign  \\\n",
       "0                1.0               0.0             0.0               0.0   \n",
       "1                0.0               1.0             0.0               0.0   \n",
       "2                1.0               0.0             0.0               0.0   \n",
       "3                1.0               0.0             0.0               0.0   \n",
       "4                0.0               0.0             0.0               0.0   \n",
       "\n",
       "   NewsDesk=History  NewsDesk=Magazine  NewsDesk=Metro  NewsDesk=Multimedia  \\\n",
       "0               0.0                0.0             0.0                  0.0   \n",
       "1               0.0                0.0             0.0                  0.0   \n",
       "2               0.0                0.0             0.0                  0.0   \n",
       "3               0.0                0.0             0.0                  0.0   \n",
       "4               0.0                0.0             0.0                  0.0   \n",
       "\n",
       "   NewsDesk=National  NewsDesk=OpEd  ...    \\\n",
       "0                0.0            0.0  ...     \n",
       "1                0.0            0.0  ...     \n",
       "2                0.0            0.0  ...     \n",
       "3                0.0            0.0  ...     \n",
       "4                0.0            0.0  ...     \n",
       "\n",
       "                                             Snippet  \\\n",
       "0  A puzzle from Ethan Cooper that reminds me tha...   \n",
       "1  The Strange Library will arrive just three and...   \n",
       "2  Public pension funds have major stakes in Amer...   \n",
       "3  As they struggle to find new business to bolst...   \n",
       "4  Middle-aged and older patients are unlikely to...   \n",
       "\n",
       "                                            Abstract  WordCount  \\\n",
       "0  A puzzle from Ethan Cooper that reminds me tha...        508   \n",
       "1  The Strange Library will arrive just three and...        285   \n",
       "2  Public pension funds have major stakes in Amer...       1211   \n",
       "3  As they struggle to find new business to bolst...       1405   \n",
       "4  Middle-aged and older patients are unlikely to...        181   \n",
       "\n",
       "              PubDate  Popular  UniqueID  Weekday  Hour  Symbol  QandA  \n",
       "0 2014-09-01 22:00:00      1.0         1        0    22       0      0  \n",
       "1 2014-09-01 21:14:00      0.0         2        0    21       0      0  \n",
       "2 2014-09-01 21:05:00      0.0         3        0    21       0      0  \n",
       "3 2014-09-01 20:43:00      1.0         4        0    20       0      0  \n",
       "4 2014-09-01 18:58:00      1.0         5        0    18       0      0  \n",
       "\n",
       "[5 rows x 70 columns]"
      ]
     },
     "execution_count": 940,
     "metadata": {},
     "output_type": "execute_result"
    }
   ],
   "source": [
    "from sklearn.feature_extraction import DictVectorizer\n",
    "\n",
    "old_columns = total.columns\n",
    "cat_cols = ['NewsDesk', 'SectionName', 'SubsectionName']\n",
    "temp_dict = total[cat_cols].to_dict(orient=\"records\")\n",
    "vec = DictVectorizer()\n",
    "vec_arr = vec.fit_transform(temp_dict).toarray()    \n",
    "new_total = pd.DataFrame(vec_arr).convert_objects(convert_numeric=True)\n",
    "new_total.index = total.index\n",
    "new_total.columns = vec.get_feature_names()\n",
    "columns_to_add = [col for col in old_columns if col not in cat_cols]\n",
    "new_total[columns_to_add] = total[columns_to_add]\n",
    "new_total.head()"
   ]
  },
  {
   "cell_type": "markdown",
   "metadata": {},
   "source": [
    "Separating the train and test data"
   ]
  },
  {
   "cell_type": "code",
   "execution_count": 941,
   "metadata": {},
   "outputs": [],
   "source": [
    "train = new_total[new_total['UniqueID'] <= 6532]\n",
    "test = new_total[new_total['UniqueID'] > 6532]"
   ]
  },
  {
   "cell_type": "code",
   "execution_count": 942,
   "metadata": {},
   "outputs": [
    {
     "data": {
      "text/html": [
       "<div>\n",
       "<style scoped>\n",
       "    .dataframe tbody tr th:only-of-type {\n",
       "        vertical-align: middle;\n",
       "    }\n",
       "\n",
       "    .dataframe tbody tr th {\n",
       "        vertical-align: top;\n",
       "    }\n",
       "\n",
       "    .dataframe thead th {\n",
       "        text-align: right;\n",
       "    }\n",
       "</style>\n",
       "<table border=\"1\" class=\"dataframe\">\n",
       "  <thead>\n",
       "    <tr style=\"text-align: right;\">\n",
       "      <th></th>\n",
       "      <th>NewsDesk=Business</th>\n",
       "      <th>NewsDesk=Culture</th>\n",
       "      <th>NewsDesk=Daily</th>\n",
       "      <th>NewsDesk=Foreign</th>\n",
       "      <th>NewsDesk=History</th>\n",
       "      <th>NewsDesk=Magazine</th>\n",
       "      <th>NewsDesk=Metro</th>\n",
       "      <th>NewsDesk=Multimedia</th>\n",
       "      <th>NewsDesk=National</th>\n",
       "      <th>NewsDesk=OpEd</th>\n",
       "      <th>...</th>\n",
       "      <th>Snippet</th>\n",
       "      <th>Abstract</th>\n",
       "      <th>WordCount</th>\n",
       "      <th>PubDate</th>\n",
       "      <th>Popular</th>\n",
       "      <th>UniqueID</th>\n",
       "      <th>Weekday</th>\n",
       "      <th>Hour</th>\n",
       "      <th>Symbol</th>\n",
       "      <th>QandA</th>\n",
       "    </tr>\n",
       "  </thead>\n",
       "  <tbody>\n",
       "    <tr>\n",
       "      <th>0</th>\n",
       "      <td>1.0</td>\n",
       "      <td>0.0</td>\n",
       "      <td>0.0</td>\n",
       "      <td>0.0</td>\n",
       "      <td>0.0</td>\n",
       "      <td>0.0</td>\n",
       "      <td>0.0</td>\n",
       "      <td>0.0</td>\n",
       "      <td>0.0</td>\n",
       "      <td>0.0</td>\n",
       "      <td>...</td>\n",
       "      <td>A puzzle from Ethan Cooper that reminds me tha...</td>\n",
       "      <td>A puzzle from Ethan Cooper that reminds me tha...</td>\n",
       "      <td>508</td>\n",
       "      <td>2014-09-01 22:00:00</td>\n",
       "      <td>1.0</td>\n",
       "      <td>1</td>\n",
       "      <td>0</td>\n",
       "      <td>22</td>\n",
       "      <td>0</td>\n",
       "      <td>0</td>\n",
       "    </tr>\n",
       "    <tr>\n",
       "      <th>1</th>\n",
       "      <td>0.0</td>\n",
       "      <td>1.0</td>\n",
       "      <td>0.0</td>\n",
       "      <td>0.0</td>\n",
       "      <td>0.0</td>\n",
       "      <td>0.0</td>\n",
       "      <td>0.0</td>\n",
       "      <td>0.0</td>\n",
       "      <td>0.0</td>\n",
       "      <td>0.0</td>\n",
       "      <td>...</td>\n",
       "      <td>The Strange Library will arrive just three and...</td>\n",
       "      <td>The Strange Library will arrive just three and...</td>\n",
       "      <td>285</td>\n",
       "      <td>2014-09-01 21:14:00</td>\n",
       "      <td>0.0</td>\n",
       "      <td>2</td>\n",
       "      <td>0</td>\n",
       "      <td>21</td>\n",
       "      <td>0</td>\n",
       "      <td>0</td>\n",
       "    </tr>\n",
       "    <tr>\n",
       "      <th>2</th>\n",
       "      <td>1.0</td>\n",
       "      <td>0.0</td>\n",
       "      <td>0.0</td>\n",
       "      <td>0.0</td>\n",
       "      <td>0.0</td>\n",
       "      <td>0.0</td>\n",
       "      <td>0.0</td>\n",
       "      <td>0.0</td>\n",
       "      <td>0.0</td>\n",
       "      <td>0.0</td>\n",
       "      <td>...</td>\n",
       "      <td>Public pension funds have major stakes in Amer...</td>\n",
       "      <td>Public pension funds have major stakes in Amer...</td>\n",
       "      <td>1211</td>\n",
       "      <td>2014-09-01 21:05:00</td>\n",
       "      <td>0.0</td>\n",
       "      <td>3</td>\n",
       "      <td>0</td>\n",
       "      <td>21</td>\n",
       "      <td>0</td>\n",
       "      <td>0</td>\n",
       "    </tr>\n",
       "    <tr>\n",
       "      <th>3</th>\n",
       "      <td>1.0</td>\n",
       "      <td>0.0</td>\n",
       "      <td>0.0</td>\n",
       "      <td>0.0</td>\n",
       "      <td>0.0</td>\n",
       "      <td>0.0</td>\n",
       "      <td>0.0</td>\n",
       "      <td>0.0</td>\n",
       "      <td>0.0</td>\n",
       "      <td>0.0</td>\n",
       "      <td>...</td>\n",
       "      <td>As they struggle to find new business to bolst...</td>\n",
       "      <td>As they struggle to find new business to bolst...</td>\n",
       "      <td>1405</td>\n",
       "      <td>2014-09-01 20:43:00</td>\n",
       "      <td>1.0</td>\n",
       "      <td>4</td>\n",
       "      <td>0</td>\n",
       "      <td>20</td>\n",
       "      <td>0</td>\n",
       "      <td>0</td>\n",
       "    </tr>\n",
       "    <tr>\n",
       "      <th>4</th>\n",
       "      <td>0.0</td>\n",
       "      <td>0.0</td>\n",
       "      <td>0.0</td>\n",
       "      <td>0.0</td>\n",
       "      <td>0.0</td>\n",
       "      <td>0.0</td>\n",
       "      <td>0.0</td>\n",
       "      <td>0.0</td>\n",
       "      <td>0.0</td>\n",
       "      <td>0.0</td>\n",
       "      <td>...</td>\n",
       "      <td>Middle-aged and older patients are unlikely to...</td>\n",
       "      <td>Middle-aged and older patients are unlikely to...</td>\n",
       "      <td>181</td>\n",
       "      <td>2014-09-01 18:58:00</td>\n",
       "      <td>1.0</td>\n",
       "      <td>5</td>\n",
       "      <td>0</td>\n",
       "      <td>18</td>\n",
       "      <td>0</td>\n",
       "      <td>0</td>\n",
       "    </tr>\n",
       "  </tbody>\n",
       "</table>\n",
       "<p>5 rows × 70 columns</p>\n",
       "</div>"
      ],
      "text/plain": [
       "   NewsDesk=Business  NewsDesk=Culture  NewsDesk=Daily  NewsDesk=Foreign  \\\n",
       "0                1.0               0.0             0.0               0.0   \n",
       "1                0.0               1.0             0.0               0.0   \n",
       "2                1.0               0.0             0.0               0.0   \n",
       "3                1.0               0.0             0.0               0.0   \n",
       "4                0.0               0.0             0.0               0.0   \n",
       "\n",
       "   NewsDesk=History  NewsDesk=Magazine  NewsDesk=Metro  NewsDesk=Multimedia  \\\n",
       "0               0.0                0.0             0.0                  0.0   \n",
       "1               0.0                0.0             0.0                  0.0   \n",
       "2               0.0                0.0             0.0                  0.0   \n",
       "3               0.0                0.0             0.0                  0.0   \n",
       "4               0.0                0.0             0.0                  0.0   \n",
       "\n",
       "   NewsDesk=National  NewsDesk=OpEd  ...    \\\n",
       "0                0.0            0.0  ...     \n",
       "1                0.0            0.0  ...     \n",
       "2                0.0            0.0  ...     \n",
       "3                0.0            0.0  ...     \n",
       "4                0.0            0.0  ...     \n",
       "\n",
       "                                             Snippet  \\\n",
       "0  A puzzle from Ethan Cooper that reminds me tha...   \n",
       "1  The Strange Library will arrive just three and...   \n",
       "2  Public pension funds have major stakes in Amer...   \n",
       "3  As they struggle to find new business to bolst...   \n",
       "4  Middle-aged and older patients are unlikely to...   \n",
       "\n",
       "                                            Abstract  WordCount  \\\n",
       "0  A puzzle from Ethan Cooper that reminds me tha...        508   \n",
       "1  The Strange Library will arrive just three and...        285   \n",
       "2  Public pension funds have major stakes in Amer...       1211   \n",
       "3  As they struggle to find new business to bolst...       1405   \n",
       "4  Middle-aged and older patients are unlikely to...        181   \n",
       "\n",
       "              PubDate  Popular  UniqueID  Weekday  Hour  Symbol  QandA  \n",
       "0 2014-09-01 22:00:00      1.0         1        0    22       0      0  \n",
       "1 2014-09-01 21:14:00      0.0         2        0    21       0      0  \n",
       "2 2014-09-01 21:05:00      0.0         3        0    21       0      0  \n",
       "3 2014-09-01 20:43:00      1.0         4        0    20       0      0  \n",
       "4 2014-09-01 18:58:00      1.0         5        0    18       0      0  \n",
       "\n",
       "[5 rows x 70 columns]"
      ]
     },
     "execution_count": 942,
     "metadata": {},
     "output_type": "execute_result"
    }
   ],
   "source": [
    "train.head()"
   ]
  },
  {
   "cell_type": "code",
   "execution_count": 943,
   "metadata": {},
   "outputs": [],
   "source": [
    "Xcols = train.columns\n",
    "Xcols = [x for x in Xcols if not x in ('Headline', 'Snippet', 'Abstract', 'PubDate', 'UniqueID', 'Popular', 'Q&A')]"
   ]
  },
  {
   "cell_type": "code",
   "execution_count": 944,
   "metadata": {},
   "outputs": [
    {
     "data": {
      "text/html": [
       "<div>\n",
       "<style scoped>\n",
       "    .dataframe tbody tr th:only-of-type {\n",
       "        vertical-align: middle;\n",
       "    }\n",
       "\n",
       "    .dataframe tbody tr th {\n",
       "        vertical-align: top;\n",
       "    }\n",
       "\n",
       "    .dataframe thead th {\n",
       "        text-align: right;\n",
       "    }\n",
       "</style>\n",
       "<table border=\"1\" class=\"dataframe\">\n",
       "  <thead>\n",
       "    <tr style=\"text-align: right;\">\n",
       "      <th></th>\n",
       "      <th>NewsDesk=Business</th>\n",
       "      <th>NewsDesk=Culture</th>\n",
       "      <th>NewsDesk=Daily</th>\n",
       "      <th>NewsDesk=Foreign</th>\n",
       "      <th>NewsDesk=History</th>\n",
       "      <th>NewsDesk=Magazine</th>\n",
       "      <th>NewsDesk=Metro</th>\n",
       "      <th>NewsDesk=Multimedia</th>\n",
       "      <th>NewsDesk=National</th>\n",
       "      <th>NewsDesk=OpEd</th>\n",
       "      <th>...</th>\n",
       "      <th>Snippet</th>\n",
       "      <th>Abstract</th>\n",
       "      <th>WordCount</th>\n",
       "      <th>PubDate</th>\n",
       "      <th>Popular</th>\n",
       "      <th>UniqueID</th>\n",
       "      <th>Weekday</th>\n",
       "      <th>Hour</th>\n",
       "      <th>Symbol</th>\n",
       "      <th>QandA</th>\n",
       "    </tr>\n",
       "  </thead>\n",
       "  <tbody>\n",
       "    <tr>\n",
       "      <th>0</th>\n",
       "      <td>1.0</td>\n",
       "      <td>0.0</td>\n",
       "      <td>0.0</td>\n",
       "      <td>0.0</td>\n",
       "      <td>0.0</td>\n",
       "      <td>0.0</td>\n",
       "      <td>0.0</td>\n",
       "      <td>0.0</td>\n",
       "      <td>0.0</td>\n",
       "      <td>0.0</td>\n",
       "      <td>...</td>\n",
       "      <td>A puzzle from Ethan Cooper that reminds me tha...</td>\n",
       "      <td>A puzzle from Ethan Cooper that reminds me tha...</td>\n",
       "      <td>508</td>\n",
       "      <td>2014-09-01 22:00:00</td>\n",
       "      <td>1.0</td>\n",
       "      <td>1</td>\n",
       "      <td>0</td>\n",
       "      <td>22</td>\n",
       "      <td>0</td>\n",
       "      <td>0</td>\n",
       "    </tr>\n",
       "    <tr>\n",
       "      <th>1</th>\n",
       "      <td>0.0</td>\n",
       "      <td>1.0</td>\n",
       "      <td>0.0</td>\n",
       "      <td>0.0</td>\n",
       "      <td>0.0</td>\n",
       "      <td>0.0</td>\n",
       "      <td>0.0</td>\n",
       "      <td>0.0</td>\n",
       "      <td>0.0</td>\n",
       "      <td>0.0</td>\n",
       "      <td>...</td>\n",
       "      <td>The Strange Library will arrive just three and...</td>\n",
       "      <td>The Strange Library will arrive just three and...</td>\n",
       "      <td>285</td>\n",
       "      <td>2014-09-01 21:14:00</td>\n",
       "      <td>0.0</td>\n",
       "      <td>2</td>\n",
       "      <td>0</td>\n",
       "      <td>21</td>\n",
       "      <td>0</td>\n",
       "      <td>0</td>\n",
       "    </tr>\n",
       "    <tr>\n",
       "      <th>2</th>\n",
       "      <td>1.0</td>\n",
       "      <td>0.0</td>\n",
       "      <td>0.0</td>\n",
       "      <td>0.0</td>\n",
       "      <td>0.0</td>\n",
       "      <td>0.0</td>\n",
       "      <td>0.0</td>\n",
       "      <td>0.0</td>\n",
       "      <td>0.0</td>\n",
       "      <td>0.0</td>\n",
       "      <td>...</td>\n",
       "      <td>Public pension funds have major stakes in Amer...</td>\n",
       "      <td>Public pension funds have major stakes in Amer...</td>\n",
       "      <td>1211</td>\n",
       "      <td>2014-09-01 21:05:00</td>\n",
       "      <td>0.0</td>\n",
       "      <td>3</td>\n",
       "      <td>0</td>\n",
       "      <td>21</td>\n",
       "      <td>0</td>\n",
       "      <td>0</td>\n",
       "    </tr>\n",
       "    <tr>\n",
       "      <th>3</th>\n",
       "      <td>1.0</td>\n",
       "      <td>0.0</td>\n",
       "      <td>0.0</td>\n",
       "      <td>0.0</td>\n",
       "      <td>0.0</td>\n",
       "      <td>0.0</td>\n",
       "      <td>0.0</td>\n",
       "      <td>0.0</td>\n",
       "      <td>0.0</td>\n",
       "      <td>0.0</td>\n",
       "      <td>...</td>\n",
       "      <td>As they struggle to find new business to bolst...</td>\n",
       "      <td>As they struggle to find new business to bolst...</td>\n",
       "      <td>1405</td>\n",
       "      <td>2014-09-01 20:43:00</td>\n",
       "      <td>1.0</td>\n",
       "      <td>4</td>\n",
       "      <td>0</td>\n",
       "      <td>20</td>\n",
       "      <td>0</td>\n",
       "      <td>0</td>\n",
       "    </tr>\n",
       "    <tr>\n",
       "      <th>4</th>\n",
       "      <td>0.0</td>\n",
       "      <td>0.0</td>\n",
       "      <td>0.0</td>\n",
       "      <td>0.0</td>\n",
       "      <td>0.0</td>\n",
       "      <td>0.0</td>\n",
       "      <td>0.0</td>\n",
       "      <td>0.0</td>\n",
       "      <td>0.0</td>\n",
       "      <td>0.0</td>\n",
       "      <td>...</td>\n",
       "      <td>Middle-aged and older patients are unlikely to...</td>\n",
       "      <td>Middle-aged and older patients are unlikely to...</td>\n",
       "      <td>181</td>\n",
       "      <td>2014-09-01 18:58:00</td>\n",
       "      <td>1.0</td>\n",
       "      <td>5</td>\n",
       "      <td>0</td>\n",
       "      <td>18</td>\n",
       "      <td>0</td>\n",
       "      <td>0</td>\n",
       "    </tr>\n",
       "  </tbody>\n",
       "</table>\n",
       "<p>5 rows × 70 columns</p>\n",
       "</div>"
      ],
      "text/plain": [
       "   NewsDesk=Business  NewsDesk=Culture  NewsDesk=Daily  NewsDesk=Foreign  \\\n",
       "0                1.0               0.0             0.0               0.0   \n",
       "1                0.0               1.0             0.0               0.0   \n",
       "2                1.0               0.0             0.0               0.0   \n",
       "3                1.0               0.0             0.0               0.0   \n",
       "4                0.0               0.0             0.0               0.0   \n",
       "\n",
       "   NewsDesk=History  NewsDesk=Magazine  NewsDesk=Metro  NewsDesk=Multimedia  \\\n",
       "0               0.0                0.0             0.0                  0.0   \n",
       "1               0.0                0.0             0.0                  0.0   \n",
       "2               0.0                0.0             0.0                  0.0   \n",
       "3               0.0                0.0             0.0                  0.0   \n",
       "4               0.0                0.0             0.0                  0.0   \n",
       "\n",
       "   NewsDesk=National  NewsDesk=OpEd  ...    \\\n",
       "0                0.0            0.0  ...     \n",
       "1                0.0            0.0  ...     \n",
       "2                0.0            0.0  ...     \n",
       "3                0.0            0.0  ...     \n",
       "4                0.0            0.0  ...     \n",
       "\n",
       "                                             Snippet  \\\n",
       "0  A puzzle from Ethan Cooper that reminds me tha...   \n",
       "1  The Strange Library will arrive just three and...   \n",
       "2  Public pension funds have major stakes in Amer...   \n",
       "3  As they struggle to find new business to bolst...   \n",
       "4  Middle-aged and older patients are unlikely to...   \n",
       "\n",
       "                                            Abstract  WordCount  \\\n",
       "0  A puzzle from Ethan Cooper that reminds me tha...        508   \n",
       "1  The Strange Library will arrive just three and...        285   \n",
       "2  Public pension funds have major stakes in Amer...       1211   \n",
       "3  As they struggle to find new business to bolst...       1405   \n",
       "4  Middle-aged and older patients are unlikely to...        181   \n",
       "\n",
       "              PubDate  Popular  UniqueID  Weekday  Hour  Symbol  QandA  \n",
       "0 2014-09-01 22:00:00      1.0         1        0    22       0      0  \n",
       "1 2014-09-01 21:14:00      0.0         2        0    21       0      0  \n",
       "2 2014-09-01 21:05:00      0.0         3        0    21       0      0  \n",
       "3 2014-09-01 20:43:00      1.0         4        0    20       0      0  \n",
       "4 2014-09-01 18:58:00      1.0         5        0    18       0      0  \n",
       "\n",
       "[5 rows x 70 columns]"
      ]
     },
     "execution_count": 944,
     "metadata": {},
     "output_type": "execute_result"
    }
   ],
   "source": [
    "train.head()"
   ]
  },
  {
   "cell_type": "markdown",
   "metadata": {},
   "source": [
    "Now train on 80% of the data and calclate accuracy onrest 20%."
   ]
  },
  {
   "cell_type": "code",
   "execution_count": 945,
   "metadata": {
    "collapsed": true
   },
   "outputs": [],
   "source": [
    "import matplotlib.pyplot as plt\n",
    "\n",
    "from sklearn.linear_model import LogisticRegression\n",
    "from sklearn.svm import SVC, LinearSVC\n",
    "from sklearn.ensemble import RandomForestClassifier\n",
    "from sklearn.neighbors import KNeighborsClassifier\n",
    "from sklearn.naive_bayes import GaussianNB\n",
    "from sklearn.tree import DecisionTreeClassifier\n",
    "from sklearn.linear_model import SGDClassifier\n",
    "from sklearn.ensemble import GradientBoostingClassifier\n"
   ]
  },
  {
   "cell_type": "code",
   "execution_count": 946,
   "metadata": {
    "collapsed": true
   },
   "outputs": [],
   "source": [
    "train_features = train[Xcols]\n",
    "train_target = train['Popular']"
   ]
  },
  {
   "cell_type": "code",
   "execution_count": 947,
   "metadata": {},
   "outputs": [],
   "source": [
    "from sklearn import metrics\n",
    "from sklearn.cross_validation import train_test_split"
   ]
  },
  {
   "cell_type": "code",
   "execution_count": 948,
   "metadata": {},
   "outputs": [
    {
     "name": "stdout",
     "output_type": "stream",
     "text": [
      "(6532, 64) (6532,)\n",
      "(5225, 64) (5225,)\n",
      "(1307, 64) (1307,)\n"
     ]
    }
   ],
   "source": [
    "train_x, test_x, train_y, test_y = train_test_split(train_features, train_target, test_size=0.20, random_state=0)\n",
    "print (train_features.shape, train_target.shape)\n",
    "print (train_x.shape, train_y.shape)\n",
    "print (test_x.shape, test_y.shape)"
   ]
  },
  {
   "cell_type": "markdown",
   "metadata": {},
   "source": [
    "RandomForestClassifier"
   ]
  },
  {
   "cell_type": "code",
   "execution_count": 949,
   "metadata": {
    "collapsed": true
   },
   "outputs": [],
   "source": [
    "clf= RandomForestClassifier(n_estimators=1000)"
   ]
  },
  {
   "cell_type": "code",
   "execution_count": 950,
   "metadata": {},
   "outputs": [
    {
     "name": "stdout",
     "output_type": "stream",
     "text": [
      "Random Forest = 0.88\n"
     ]
    }
   ],
   "source": [
    "clf = clf.fit(train_x, train_y)\n",
    "predict_y = clf.predict(test_x)\n",
    "from sklearn.metrics import accuracy_score\n",
    "print (\"Random Forest = %.2f\" % (accuracy_score(test_y, predict_y)))\n"
   ]
  },
  {
   "cell_type": "markdown",
   "metadata": {},
   "source": [
    "KNN Classifier"
   ]
  },
  {
   "cell_type": "code",
   "execution_count": 951,
   "metadata": {},
   "outputs": [
    {
     "name": "stdout",
     "output_type": "stream",
     "text": [
      "KNN= 0.82\n"
     ]
    }
   ],
   "source": [
    "clf1=KNeighborsClassifier(n_neighbors = 3)\n",
    "clf1 = clf1.fit(train_x, train_y)\n",
    "predict_y = clf1.predict(test_x)\n",
    "from sklearn.metrics import accuracy_score\n",
    "print (\"KNN= %.2f\" % (accuracy_score(test_y, predict_y)))"
   ]
  },
  {
   "cell_type": "markdown",
   "metadata": {},
   "source": [
    "Decision Tree Classifier"
   ]
  },
  {
   "cell_type": "code",
   "execution_count": 952,
   "metadata": {},
   "outputs": [
    {
     "name": "stdout",
     "output_type": "stream",
     "text": [
      "Decision tree Accuracy = 0.85\n"
     ]
    }
   ],
   "source": [
    "clf2= DecisionTreeClassifier()\n",
    "clf2 = clf2.fit(train_x, train_y)\n",
    "predict_y = clf2.predict(test_x)\n",
    "from sklearn.metrics import accuracy_score\n",
    "print (\"Decision tree Accuracy = %.2f\" % (accuracy_score(test_y, predict_y)))"
   ]
  },
  {
   "cell_type": "markdown",
   "metadata": {},
   "source": [
    "SVC Classifier"
   ]
  },
  {
   "cell_type": "code",
   "execution_count": 953,
   "metadata": {},
   "outputs": [
    {
     "name": "stdout",
     "output_type": "stream",
     "text": [
      "SVC Accuracy = 0.82\n"
     ]
    }
   ],
   "source": [
    "clf3 = SVC()\n",
    "clf3.fit(train_x, train_y)\n",
    "predict_y = clf3.predict(test_x)\n",
    "print (\"SVC Accuracy = %.2f\" % (accuracy_score(test_y, predict_y)))"
   ]
  },
  {
   "cell_type": "markdown",
   "metadata": {},
   "source": [
    "Logistic Regression Classifier"
   ]
  },
  {
   "cell_type": "code",
   "execution_count": 954,
   "metadata": {},
   "outputs": [
    {
     "name": "stdout",
     "output_type": "stream",
     "text": [
      "Regression Accuracy = 0.86\n"
     ]
    }
   ],
   "source": [
    "clf4 = LogisticRegression()\n",
    "clf4.fit(train_x, train_y)\n",
    "predict_y = clf4.predict(test_x)\n",
    "print (\"Regression Accuracy = %.2f\" % (accuracy_score(test_y, predict_y)))"
   ]
  },
  {
   "cell_type": "markdown",
   "metadata": {},
   "source": [
    "Gradient Boosting Classifier"
   ]
  },
  {
   "cell_type": "code",
   "execution_count": 955,
   "metadata": {},
   "outputs": [
    {
     "name": "stdout",
     "output_type": "stream",
     "text": [
      "GBC Accuracy = 0.88\n"
     ]
    }
   ],
   "source": [
    "clf5 = GradientBoostingClassifier(n_estimators=3000,learning_rate=0.005)\n",
    "clf5.fit(train_x, train_y)\n",
    "predict_y = clf5.predict(test_x)\n",
    "print (\"GBC Accuracy = %.2f\" % (accuracy_score(test_y, predict_y)))"
   ]
  },
  {
   "cell_type": "markdown",
   "metadata": {},
   "source": [
    "Now predicting for the test data"
   ]
  },
  {
   "cell_type": "code",
   "execution_count": 956,
   "metadata": {},
   "outputs": [
    {
     "name": "stderr",
     "output_type": "stream",
     "text": [
      "C:\\Users\\R AMARTYA\\Anaconda3\\lib\\site-packages\\ipykernel_launcher.py:3: SettingWithCopyWarning: \n",
      "A value is trying to be set on a copy of a slice from a DataFrame.\n",
      "Try using .loc[row_indexer,col_indexer] = value instead\n",
      "\n",
      "See the caveats in the documentation: http://pandas.pydata.org/pandas-docs/stable/indexing.html#indexing-view-versus-copy\n",
      "  This is separate from the ipykernel package so we can avoid doing imports until\n",
      "C:\\Users\\R AMARTYA\\Anaconda3\\lib\\site-packages\\ipykernel_launcher.py:4: SettingWithCopyWarning: \n",
      "A value is trying to be set on a copy of a slice from a DataFrame.\n",
      "Try using .loc[row_indexer,col_indexer] = value instead\n",
      "\n",
      "See the caveats in the documentation: http://pandas.pydata.org/pandas-docs/stable/indexing.html#indexing-view-versus-copy\n",
      "  after removing the cwd from sys.path.\n"
     ]
    }
   ],
   "source": [
    "probsRF = clf.predict_proba(test[Xcols])[:,1]\n",
    "probsGBC =clf5.predict_proba(test[Xcols])[:,1]\n",
    "test['Popular'] = (0.6*probsGBC+0.4*probsRF)\n",
    "test['UniqueID'] = test['UniqueID'].astype(int)\n"
   ]
  },
  {
   "cell_type": "code",
   "execution_count": 957,
   "metadata": {},
   "outputs": [
    {
     "data": {
      "text/html": [
       "<div>\n",
       "<style scoped>\n",
       "    .dataframe tbody tr th:only-of-type {\n",
       "        vertical-align: middle;\n",
       "    }\n",
       "\n",
       "    .dataframe tbody tr th {\n",
       "        vertical-align: top;\n",
       "    }\n",
       "\n",
       "    .dataframe thead th {\n",
       "        text-align: right;\n",
       "    }\n",
       "</style>\n",
       "<table border=\"1\" class=\"dataframe\">\n",
       "  <thead>\n",
       "    <tr style=\"text-align: right;\">\n",
       "      <th></th>\n",
       "      <th>NewsDesk=Business</th>\n",
       "      <th>NewsDesk=Culture</th>\n",
       "      <th>NewsDesk=Daily</th>\n",
       "      <th>NewsDesk=Foreign</th>\n",
       "      <th>NewsDesk=History</th>\n",
       "      <th>NewsDesk=Magazine</th>\n",
       "      <th>NewsDesk=Metro</th>\n",
       "      <th>NewsDesk=Multimedia</th>\n",
       "      <th>NewsDesk=National</th>\n",
       "      <th>NewsDesk=OpEd</th>\n",
       "      <th>...</th>\n",
       "      <th>Snippet</th>\n",
       "      <th>Abstract</th>\n",
       "      <th>WordCount</th>\n",
       "      <th>PubDate</th>\n",
       "      <th>Popular</th>\n",
       "      <th>UniqueID</th>\n",
       "      <th>Weekday</th>\n",
       "      <th>Hour</th>\n",
       "      <th>Symbol</th>\n",
       "      <th>QandA</th>\n",
       "    </tr>\n",
       "  </thead>\n",
       "  <tbody>\n",
       "    <tr>\n",
       "      <th>6532</th>\n",
       "      <td>0.0</td>\n",
       "      <td>1.0</td>\n",
       "      <td>0.0</td>\n",
       "      <td>0.0</td>\n",
       "      <td>0.0</td>\n",
       "      <td>0.0</td>\n",
       "      <td>0.0</td>\n",
       "      <td>0.0</td>\n",
       "      <td>0.0</td>\n",
       "      <td>0.0</td>\n",
       "      <td>...</td>\n",
       "      <td>The backstage tale won two awards; Citizenfour...</td>\n",
       "      <td>The backstage tale won two awards; Citizenfour...</td>\n",
       "      <td>111</td>\n",
       "      <td>2014-12-01 22:45:24</td>\n",
       "      <td>0.017726</td>\n",
       "      <td>6533</td>\n",
       "      <td>0</td>\n",
       "      <td>22</td>\n",
       "      <td>0</td>\n",
       "      <td>0</td>\n",
       "    </tr>\n",
       "    <tr>\n",
       "      <th>6533</th>\n",
       "      <td>0.0</td>\n",
       "      <td>1.0</td>\n",
       "      <td>0.0</td>\n",
       "      <td>0.0</td>\n",
       "      <td>0.0</td>\n",
       "      <td>0.0</td>\n",
       "      <td>0.0</td>\n",
       "      <td>0.0</td>\n",
       "      <td>0.0</td>\n",
       "      <td>0.0</td>\n",
       "      <td>...</td>\n",
       "      <td>In the fall season finale, a question of where...</td>\n",
       "      <td>In the fall season finale, a question of where...</td>\n",
       "      <td>558</td>\n",
       "      <td>2014-12-01 22:01:34</td>\n",
       "      <td>0.084679</td>\n",
       "      <td>6534</td>\n",
       "      <td>0</td>\n",
       "      <td>22</td>\n",
       "      <td>0</td>\n",
       "      <td>0</td>\n",
       "    </tr>\n",
       "    <tr>\n",
       "      <th>6534</th>\n",
       "      <td>1.0</td>\n",
       "      <td>0.0</td>\n",
       "      <td>0.0</td>\n",
       "      <td>0.0</td>\n",
       "      <td>0.0</td>\n",
       "      <td>0.0</td>\n",
       "      <td>0.0</td>\n",
       "      <td>0.0</td>\n",
       "      <td>0.0</td>\n",
       "      <td>0.0</td>\n",
       "      <td>...</td>\n",
       "      <td>In which Timothy Polin reveals his potty mouth.</td>\n",
       "      <td>In which Timothy Polin reveals his potty mouth.</td>\n",
       "      <td>788</td>\n",
       "      <td>2014-12-01 22:00:26</td>\n",
       "      <td>0.980934</td>\n",
       "      <td>6535</td>\n",
       "      <td>0</td>\n",
       "      <td>22</td>\n",
       "      <td>0</td>\n",
       "      <td>0</td>\n",
       "    </tr>\n",
       "    <tr>\n",
       "      <th>6535</th>\n",
       "      <td>1.0</td>\n",
       "      <td>0.0</td>\n",
       "      <td>0.0</td>\n",
       "      <td>0.0</td>\n",
       "      <td>0.0</td>\n",
       "      <td>0.0</td>\n",
       "      <td>0.0</td>\n",
       "      <td>0.0</td>\n",
       "      <td>0.0</td>\n",
       "      <td>0.0</td>\n",
       "      <td>...</td>\n",
       "      <td>The debate about pay for Wall Street executive...</td>\n",
       "      <td>The debate about pay for Wall Street executive...</td>\n",
       "      <td>915</td>\n",
       "      <td>2014-12-01 21:04:13</td>\n",
       "      <td>0.323425</td>\n",
       "      <td>6536</td>\n",
       "      <td>0</td>\n",
       "      <td>21</td>\n",
       "      <td>0</td>\n",
       "      <td>0</td>\n",
       "    </tr>\n",
       "    <tr>\n",
       "      <th>6536</th>\n",
       "      <td>0.0</td>\n",
       "      <td>0.0</td>\n",
       "      <td>0.0</td>\n",
       "      <td>0.0</td>\n",
       "      <td>0.0</td>\n",
       "      <td>0.0</td>\n",
       "      <td>0.0</td>\n",
       "      <td>0.0</td>\n",
       "      <td>0.0</td>\n",
       "      <td>0.0</td>\n",
       "      <td>...</td>\n",
       "      <td>Short-term psychotherapy may be an effective w...</td>\n",
       "      <td>Short-term psychotherapy may be an effective w...</td>\n",
       "      <td>213</td>\n",
       "      <td>2014-12-01 19:13:20</td>\n",
       "      <td>0.193257</td>\n",
       "      <td>6537</td>\n",
       "      <td>0</td>\n",
       "      <td>19</td>\n",
       "      <td>0</td>\n",
       "      <td>0</td>\n",
       "    </tr>\n",
       "    <tr>\n",
       "      <th>6537</th>\n",
       "      <td>0.0</td>\n",
       "      <td>0.0</td>\n",
       "      <td>0.0</td>\n",
       "      <td>0.0</td>\n",
       "      <td>0.0</td>\n",
       "      <td>0.0</td>\n",
       "      <td>0.0</td>\n",
       "      <td>0.0</td>\n",
       "      <td>0.0</td>\n",
       "      <td>0.0</td>\n",
       "      <td>...</td>\n",
       "      <td>What I hadnt considered before my fathers hear...</td>\n",
       "      <td>What I hadnt considered before my fathers hear...</td>\n",
       "      <td>938</td>\n",
       "      <td>2014-12-01 19:05:12</td>\n",
       "      <td>0.916946</td>\n",
       "      <td>6538</td>\n",
       "      <td>0</td>\n",
       "      <td>19</td>\n",
       "      <td>0</td>\n",
       "      <td>0</td>\n",
       "    </tr>\n",
       "    <tr>\n",
       "      <th>6538</th>\n",
       "      <td>0.0</td>\n",
       "      <td>0.0</td>\n",
       "      <td>0.0</td>\n",
       "      <td>0.0</td>\n",
       "      <td>0.0</td>\n",
       "      <td>0.0</td>\n",
       "      <td>0.0</td>\n",
       "      <td>0.0</td>\n",
       "      <td>0.0</td>\n",
       "      <td>1.0</td>\n",
       "      <td>...</td>\n",
       "      <td>Sometimes, being a primary care doctor isnt en...</td>\n",
       "      <td>Sometimes, being a primary care doctor isnt en...</td>\n",
       "      <td>1336</td>\n",
       "      <td>2014-12-01 19:00:16</td>\n",
       "      <td>0.676494</td>\n",
       "      <td>6539</td>\n",
       "      <td>0</td>\n",
       "      <td>19</td>\n",
       "      <td>0</td>\n",
       "      <td>0</td>\n",
       "    </tr>\n",
       "    <tr>\n",
       "      <th>6539</th>\n",
       "      <td>0.0</td>\n",
       "      <td>0.0</td>\n",
       "      <td>0.0</td>\n",
       "      <td>0.0</td>\n",
       "      <td>0.0</td>\n",
       "      <td>0.0</td>\n",
       "      <td>0.0</td>\n",
       "      <td>0.0</td>\n",
       "      <td>0.0</td>\n",
       "      <td>1.0</td>\n",
       "      <td>...</td>\n",
       "      <td>How can the development and testing of Ebola d...</td>\n",
       "      <td>How can the development and testing of Ebola d...</td>\n",
       "      <td>2644</td>\n",
       "      <td>2014-12-01 18:22:40</td>\n",
       "      <td>0.109538</td>\n",
       "      <td>6540</td>\n",
       "      <td>0</td>\n",
       "      <td>18</td>\n",
       "      <td>0</td>\n",
       "      <td>0</td>\n",
       "    </tr>\n",
       "    <tr>\n",
       "      <th>6540</th>\n",
       "      <td>0.0</td>\n",
       "      <td>0.0</td>\n",
       "      <td>0.0</td>\n",
       "      <td>0.0</td>\n",
       "      <td>0.0</td>\n",
       "      <td>0.0</td>\n",
       "      <td>0.0</td>\n",
       "      <td>0.0</td>\n",
       "      <td>0.0</td>\n",
       "      <td>0.0</td>\n",
       "      <td>...</td>\n",
       "      <td>A guide to the installations, galleries and em...</td>\n",
       "      <td>A guide to the installations, galleries and em...</td>\n",
       "      <td>752</td>\n",
       "      <td>2014-12-01 18:15:56</td>\n",
       "      <td>0.023748</td>\n",
       "      <td>6541</td>\n",
       "      <td>0</td>\n",
       "      <td>18</td>\n",
       "      <td>0</td>\n",
       "      <td>0</td>\n",
       "    </tr>\n",
       "    <tr>\n",
       "      <th>6541</th>\n",
       "      <td>0.0</td>\n",
       "      <td>0.0</td>\n",
       "      <td>0.0</td>\n",
       "      <td>0.0</td>\n",
       "      <td>0.0</td>\n",
       "      <td>0.0</td>\n",
       "      <td>0.0</td>\n",
       "      <td>0.0</td>\n",
       "      <td>0.0</td>\n",
       "      <td>1.0</td>\n",
       "      <td>...</td>\n",
       "      <td>Chief Justice John G. Roberts Jr. is well know...</td>\n",
       "      <td>Chief Justice John G. Roberts Jr. is well know...</td>\n",
       "      <td>99</td>\n",
       "      <td>2014-12-01 18:04:11</td>\n",
       "      <td>0.109019</td>\n",
       "      <td>6542</td>\n",
       "      <td>0</td>\n",
       "      <td>18</td>\n",
       "      <td>0</td>\n",
       "      <td>0</td>\n",
       "    </tr>\n",
       "  </tbody>\n",
       "</table>\n",
       "<p>10 rows × 70 columns</p>\n",
       "</div>"
      ],
      "text/plain": [
       "      NewsDesk=Business  NewsDesk=Culture  NewsDesk=Daily  NewsDesk=Foreign  \\\n",
       "6532                0.0               1.0             0.0               0.0   \n",
       "6533                0.0               1.0             0.0               0.0   \n",
       "6534                1.0               0.0             0.0               0.0   \n",
       "6535                1.0               0.0             0.0               0.0   \n",
       "6536                0.0               0.0             0.0               0.0   \n",
       "6537                0.0               0.0             0.0               0.0   \n",
       "6538                0.0               0.0             0.0               0.0   \n",
       "6539                0.0               0.0             0.0               0.0   \n",
       "6540                0.0               0.0             0.0               0.0   \n",
       "6541                0.0               0.0             0.0               0.0   \n",
       "\n",
       "      NewsDesk=History  NewsDesk=Magazine  NewsDesk=Metro  \\\n",
       "6532               0.0                0.0             0.0   \n",
       "6533               0.0                0.0             0.0   \n",
       "6534               0.0                0.0             0.0   \n",
       "6535               0.0                0.0             0.0   \n",
       "6536               0.0                0.0             0.0   \n",
       "6537               0.0                0.0             0.0   \n",
       "6538               0.0                0.0             0.0   \n",
       "6539               0.0                0.0             0.0   \n",
       "6540               0.0                0.0             0.0   \n",
       "6541               0.0                0.0             0.0   \n",
       "\n",
       "      NewsDesk=Multimedia  NewsDesk=National  NewsDesk=OpEd  ...    \\\n",
       "6532                  0.0                0.0            0.0  ...     \n",
       "6533                  0.0                0.0            0.0  ...     \n",
       "6534                  0.0                0.0            0.0  ...     \n",
       "6535                  0.0                0.0            0.0  ...     \n",
       "6536                  0.0                0.0            0.0  ...     \n",
       "6537                  0.0                0.0            0.0  ...     \n",
       "6538                  0.0                0.0            1.0  ...     \n",
       "6539                  0.0                0.0            1.0  ...     \n",
       "6540                  0.0                0.0            0.0  ...     \n",
       "6541                  0.0                0.0            1.0  ...     \n",
       "\n",
       "                                                Snippet  \\\n",
       "6532  The backstage tale won two awards; Citizenfour...   \n",
       "6533  In the fall season finale, a question of where...   \n",
       "6534    In which Timothy Polin reveals his potty mouth.   \n",
       "6535  The debate about pay for Wall Street executive...   \n",
       "6536  Short-term psychotherapy may be an effective w...   \n",
       "6537  What I hadnt considered before my fathers hear...   \n",
       "6538  Sometimes, being a primary care doctor isnt en...   \n",
       "6539  How can the development and testing of Ebola d...   \n",
       "6540  A guide to the installations, galleries and em...   \n",
       "6541  Chief Justice John G. Roberts Jr. is well know...   \n",
       "\n",
       "                                               Abstract  WordCount  \\\n",
       "6532  The backstage tale won two awards; Citizenfour...        111   \n",
       "6533  In the fall season finale, a question of where...        558   \n",
       "6534    In which Timothy Polin reveals his potty mouth.        788   \n",
       "6535  The debate about pay for Wall Street executive...        915   \n",
       "6536  Short-term psychotherapy may be an effective w...        213   \n",
       "6537  What I hadnt considered before my fathers hear...        938   \n",
       "6538  Sometimes, being a primary care doctor isnt en...       1336   \n",
       "6539  How can the development and testing of Ebola d...       2644   \n",
       "6540  A guide to the installations, galleries and em...        752   \n",
       "6541  Chief Justice John G. Roberts Jr. is well know...         99   \n",
       "\n",
       "                 PubDate   Popular  UniqueID  Weekday  Hour  Symbol  QandA  \n",
       "6532 2014-12-01 22:45:24  0.017726      6533        0    22       0      0  \n",
       "6533 2014-12-01 22:01:34  0.084679      6534        0    22       0      0  \n",
       "6534 2014-12-01 22:00:26  0.980934      6535        0    22       0      0  \n",
       "6535 2014-12-01 21:04:13  0.323425      6536        0    21       0      0  \n",
       "6536 2014-12-01 19:13:20  0.193257      6537        0    19       0      0  \n",
       "6537 2014-12-01 19:05:12  0.916946      6538        0    19       0      0  \n",
       "6538 2014-12-01 19:00:16  0.676494      6539        0    19       0      0  \n",
       "6539 2014-12-01 18:22:40  0.109538      6540        0    18       0      0  \n",
       "6540 2014-12-01 18:15:56  0.023748      6541        0    18       0      0  \n",
       "6541 2014-12-01 18:04:11  0.109019      6542        0    18       0      0  \n",
       "\n",
       "[10 rows x 70 columns]"
      ]
     },
     "execution_count": 957,
     "metadata": {},
     "output_type": "execute_result"
    }
   ],
   "source": [
    "test.head(10)"
   ]
  },
  {
   "cell_type": "code",
   "execution_count": 959,
   "metadata": {},
   "outputs": [],
   "source": [
    "test.to_csv('15.071x .csv', columns=['UniqueID', 'Popular'], header=['UniqueID', 'Probability1'], index=False)"
   ]
  }
 ],
 "metadata": {
  "kernelspec": {
   "display_name": "Python 3",
   "language": "python",
   "name": "python3"
  },
  "language_info": {
   "codemirror_mode": {
    "name": "ipython",
    "version": 3
   },
   "file_extension": ".py",
   "mimetype": "text/x-python",
   "name": "python",
   "nbconvert_exporter": "python",
   "pygments_lexer": "ipython3",
   "version": "3.6.3"
  }
 },
 "nbformat": 4,
 "nbformat_minor": 2
}
